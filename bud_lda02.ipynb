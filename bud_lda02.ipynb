{
  "nbformat": 4,
  "nbformat_minor": 0,
  "metadata": {
    "colab": {
      "provenance": [],
      "authorship_tag": "ABX9TyMO8GneUJ7JYQmy2JdCosOr",
      "include_colab_link": true
    },
    "kernelspec": {
      "name": "python3",
      "display_name": "Python 3"
    },
    "language_info": {
      "name": "python"
    }
  },
  "cells": [
    {
      "cell_type": "markdown",
      "metadata": {
        "id": "view-in-github",
        "colab_type": "text"
      },
      "source": [
        "<a href=\"https://colab.research.google.com/github/PreamJ/LDA_Bud/blob/main/bud_lda02.ipynb\" target=\"_parent\"><img src=\"https://colab.research.google.com/assets/colab-badge.svg\" alt=\"Open In Colab\"/></a>"
      ]
    },
    {
      "cell_type": "markdown",
      "source": [
        "00 -> preprocess <br>\n",
        "01 -> topic modeling (q/a/m) <br>\n",
        "02 -> search"
      ],
      "metadata": {
        "id": "EH0N1rs5k6bN"
      }
    },
    {
      "cell_type": "code",
      "execution_count": null,
      "metadata": {
        "colab": {
          "base_uri": "https://localhost:8080/"
        },
        "id": "2jr7iBEDkbNI",
        "outputId": "763d9c60-073e-440f-f4e8-fc0c759c892b"
      },
      "outputs": [
        {
          "output_type": "stream",
          "name": "stdout",
          "text": [
            "Mounted at /content/drive\n"
          ]
        }
      ],
      "source": [
        "from google.colab import drive\n",
        "drive.mount('/content/drive')"
      ]
    },
    {
      "cell_type": "code",
      "source": [
        "import pandas as pd\n",
        "import numpy as np\n",
        "RANDOM_STATE = 42"
      ],
      "metadata": {
        "id": "1EJ1JBExk7zz"
      },
      "execution_count": null,
      "outputs": []
    },
    {
      "cell_type": "code",
      "source": [
        "import pickle\n",
        "\n",
        "with open('/content/drive/MyDrive/LDA_bud/preprocessed_data/data.pickle', 'rb') as f:\n",
        "  data = pickle.load(f)\n",
        "with open('/content/drive/MyDrive/LDA_bud/preprocessed_data/preprocessed_answer_data.pickle', 'rb') as f:\n",
        "  preprocessed_answer_data = pickle.load(f)\n",
        "with open('/content/drive/MyDrive/LDA_bud/preprocessed_data/preprocessed_question_data.pickle', 'rb') as f:\n",
        "  preprocessed_question_data = pickle.load(f)\n",
        "with open('/content/drive/MyDrive/LDA_bud/preprocessed_data/id2word.pkl', 'rb') as f:\n",
        "  id2word = pickle.load(f)"
      ],
      "metadata": {
        "id": "KKffTclYk91o"
      },
      "execution_count": null,
      "outputs": []
    },
    {
      "cell_type": "code",
      "source": [
        "with open('/content/drive/MyDrive/LDA_bud/LDA_model/lda_model_30.pkl', 'rb') as f:\n",
        "  lda_model_30 = pickle.load(f)"
      ],
      "metadata": {
        "id": "Dw5Q1ZfYMkUL"
      },
      "execution_count": null,
      "outputs": []
    },
    {
      "cell_type": "code",
      "source": [
        "!pip install pythainlp"
      ],
      "metadata": {
        "colab": {
          "base_uri": "https://localhost:8080/"
        },
        "id": "5lTTZtHKZ_uQ",
        "outputId": "7537720c-4a83-4517-8b7a-3bf784566912"
      },
      "execution_count": null,
      "outputs": [
        {
          "output_type": "stream",
          "name": "stdout",
          "text": [
            "Collecting pythainlp\n",
            "  Downloading pythainlp-5.0.1-py3-none-any.whl (17.9 MB)\n",
            "\u001b[2K     \u001b[90m━━━━━━━━━━━━━━━━━━━━━━━━━━━━━━━━━━━━━━━━\u001b[0m \u001b[32m17.9/17.9 MB\u001b[0m \u001b[31m46.3 MB/s\u001b[0m eta \u001b[36m0:00:00\u001b[0m\n",
            "\u001b[?25hRequirement already satisfied: requests>=2.22.0 in /usr/local/lib/python3.10/dist-packages (from pythainlp) (2.31.0)\n",
            "Requirement already satisfied: charset-normalizer<4,>=2 in /usr/local/lib/python3.10/dist-packages (from requests>=2.22.0->pythainlp) (3.3.2)\n",
            "Requirement already satisfied: idna<4,>=2.5 in /usr/local/lib/python3.10/dist-packages (from requests>=2.22.0->pythainlp) (3.6)\n",
            "Requirement already satisfied: urllib3<3,>=1.21.1 in /usr/local/lib/python3.10/dist-packages (from requests>=2.22.0->pythainlp) (2.0.7)\n",
            "Requirement already satisfied: certifi>=2017.4.17 in /usr/local/lib/python3.10/dist-packages (from requests>=2.22.0->pythainlp) (2024.2.2)\n",
            "Installing collected packages: pythainlp\n",
            "Successfully installed pythainlp-5.0.1\n"
          ]
        }
      ]
    },
    {
      "cell_type": "code",
      "source": [
        "from pythainlp.tokenize import word_tokenize\n",
        "from pythainlp.corpus import thai_stopwords\n",
        "\n",
        "def preprocess(text):\n",
        "    stopwords = list(thai_stopwords())\n",
        "    read_stopwords = pd.read_excel('/content/drive/MyDrive/LDA_bud/stopwords/add_stopwords.xlsx')\n",
        "    add_stopwords = read_stopwords['stopword'].values.tolist()\n",
        "    result = []\n",
        "    str_text = str(text).replace(' ','')\n",
        "    word_token = word_tokenize(str_text, engine='newmm')\n",
        "    for word in word_token:\n",
        "        if(word not in stopwords + add_stopwords):\n",
        "            result.append(word)\n",
        "    return result\n",
        "def word_tokenization(corpus):\n",
        "  words_token = []\n",
        "  for document in corpus:\n",
        "    words_token.append(preprocess(document))\n",
        "  return words_token\n"
      ],
      "metadata": {
        "id": "7LieQoqUZ4gL"
      },
      "execution_count": null,
      "outputs": []
    },
    {
      "cell_type": "code",
      "source": [
        "import gensim\n",
        "def bow(text):\n",
        "  vector = id2word.doc2bow(text)\n",
        "  return vector"
      ],
      "metadata": {
        "id": "KzqpRdQ5Wpxe"
      },
      "execution_count": null,
      "outputs": []
    },
    {
      "cell_type": "code",
      "source": [
        "# from sklearn.model_selection import train_test_split\n",
        "# train, test = train_test_split(preprocessed_question_data, test_size=0.2, random_state=RANDOM_STATE)"
      ],
      "metadata": {
        "id": "NsrIlKx1cSF_"
      },
      "execution_count": null,
      "outputs": []
    },
    {
      "cell_type": "code",
      "source": [
        "# doc_topic = []\n",
        "# for i in train:\n",
        "#   doc_topic.append(lda_model_30.get_document_topics(bow(i)))\n",
        "# len(doc_topic)"
      ],
      "metadata": {
        "colab": {
          "base_uri": "https://localhost:8080/"
        },
        "id": "PTh6go_FcCWx",
        "outputId": "99017d1e-6af4-4083-f752-308c3bfb4623"
      },
      "execution_count": null,
      "outputs": [
        {
          "output_type": "execute_result",
          "data": {
            "text/plain": [
              "1733"
            ]
          },
          "metadata": {},
          "execution_count": 25
        }
      ]
    },
    {
      "cell_type": "code",
      "source": [
        "doc_topic = []\n",
        "for i in preprocessed_question_data:\n",
        "  doc_topic.append(lda_model_30.get_document_topics(bow(i)))\n",
        "len(doc_topic)"
      ],
      "metadata": {
        "colab": {
          "base_uri": "https://localhost:8080/"
        },
        "id": "ApQWf9l5j7I8",
        "outputId": "5733deab-d9c6-4928-f7c8-c8e52f07c0da"
      },
      "execution_count": null,
      "outputs": [
        {
          "output_type": "execute_result",
          "data": {
            "text/plain": [
              "2167"
            ]
          },
          "metadata": {},
          "execution_count": 46
        }
      ]
    },
    {
      "cell_type": "code",
      "source": [
        "from scipy.spatial import distance"
      ],
      "metadata": {
        "id": "4dmgKZe8dQWY"
      },
      "execution_count": null,
      "outputs": []
    },
    {
      "cell_type": "code",
      "source": [
        "def jensenshannon(query):\n",
        "  j_score = []\n",
        "  # query = bow(preprocess(query))\n",
        "  topic_prop = lda_model_30.get_document_topics(bow(query))\n",
        "  for i in doc_topic:\n",
        "    similarity = distance.jensenshannon(i, topic_prop)\n",
        "    j_score.append(similarity[1])\n",
        "  # print(j_score)\n",
        "  j_score = list(enumerate(j_score))\n",
        "  j_score = sorted(j_score, key=lambda x: x[1])\n",
        "  max_10 = j_score[:10]\n",
        "\n",
        "  similar_docs = []\n",
        "  for i in range(10):\n",
        "    similar_docs.append(data.iloc[j_score[i][0]])\n",
        "  return similar_docs"
      ],
      "metadata": {
        "id": "udZaQrF6fxX3"
      },
      "execution_count": null,
      "outputs": []
    },
    {
      "cell_type": "code",
      "source": [
        "import random\n",
        "x = random.randint(0,len(preprocessed_question_data)-1)\n",
        "preprocessed_question_data[x]"
      ],
      "metadata": {
        "colab": {
          "base_uri": "https://localhost:8080/"
        },
        "id": "BGXGCwsQf_Yk",
        "outputId": "186a1c7f-c7b8-4a8f-8f69-184d15c4239e"
      },
      "execution_count": null,
      "outputs": [
        {
          "output_type": "execute_result",
          "data": {
            "text/plain": [
              "['รัตน', 'ออกเสียง', 'ออกเสียง', 'ดีกว่า']"
            ]
          },
          "metadata": {},
          "execution_count": 99
        }
      ]
    },
    {
      "cell_type": "code",
      "source": [
        "preprocessed_question_data[x]"
      ],
      "metadata": {
        "colab": {
          "base_uri": "https://localhost:8080/"
        },
        "id": "das3tMpBxgcK",
        "outputId": "0cd30648-c788-4ef8-8f85-c3cc13a7d43c"
      },
      "execution_count": null,
      "outputs": [
        {
          "output_type": "execute_result",
          "data": {
            "text/plain": [
              "['รัตน', 'ออกเสียง', 'ออกเสียง', 'ดีกว่า']"
            ]
          },
          "metadata": {},
          "execution_count": 100
        }
      ]
    },
    {
      "cell_type": "code",
      "source": [
        "data.iloc[x]"
      ],
      "metadata": {
        "colab": {
          "base_uri": "https://localhost:8080/"
        },
        "id": "6vFYj7juvs35",
        "outputId": "db097f32-88ca-4ead-b1ab-d0f45799a0f5"
      },
      "execution_count": null,
      "outputs": [
        {
          "output_type": "execute_result",
          "data": {
            "text/plain": [
              "question    สวดรัตนปรตรในใจไม่ออกเสียงได้ไหม หรือควรสวดออก...\n",
              "answer      สวดไม่ออกเสียงก็ได้สวดในใจก็ได้ไม่เป็นไรไม่เป็...\n",
              "Name: 750, dtype: object"
            ]
          },
          "metadata": {},
          "execution_count": 101
        }
      ]
    },
    {
      "cell_type": "code",
      "source": [
        "data.iloc[x]['question']"
      ],
      "metadata": {
        "colab": {
          "base_uri": "https://localhost:8080/",
          "height": 35
        },
        "id": "-jSsnR0-zpgp",
        "outputId": "ab997a43-08e6-4705-c48a-40a7b793b232"
      },
      "execution_count": null,
      "outputs": [
        {
          "output_type": "execute_result",
          "data": {
            "text/plain": [
              "'สวดรัตนปรตรในใจไม่ออกเสียงได้ไหม หรือควรสวดออกเสียงดีกว่า'"
            ],
            "application/vnd.google.colaboratory.intrinsic+json": {
              "type": "string"
            }
          },
          "metadata": {},
          "execution_count": 102
        }
      ]
    },
    {
      "cell_type": "code",
      "source": [
        "sim_docs = jensenshannon(preprocessed_question_data[x])\n",
        "df = pd.DataFrame(sim_docs)\n",
        "df[1:]"
      ],
      "metadata": {
        "colab": {
          "base_uri": "https://localhost:8080/",
          "height": 856
        },
        "id": "hmAvhkEhidgx",
        "outputId": "a450cc08-c8f2-475a-bb22-bb7565a8ae30"
      },
      "execution_count": null,
      "outputs": [
        {
          "output_type": "execute_result",
          "data": {
            "text/plain": [
              "                                               question  \\\n",
              "369   ตอนนี้หนู ท่องธาตุ อยู่แต่วันหนึ่ง หนูก็ฝันไปว...   \n",
              "1459  การท่องพระปริตร ให้ท่องเมื่อตอนที่โควิดแรงแรงท...   \n",
              "183   การท่องรัตนปริตร และบทอื่นๆ ทําไมเราต้องท่อง 3...   \n",
              "1330  สวดรัตนปริตรและอาฏานาฏิยปริตร ท่องธาตุแล้วไม่ร...   \n",
              "2085  ควรสวดมนต์อย่างไรถึงจะถูกต้องหรือสวดมนต์แล้วหา...   \n",
              "907   คืออย่างที่เห็นทุกวันนี้ส่วนใหญ่นั้นจะมีพระพุท...   \n",
              "797   แล้วเวลาที่อาบน้ําแล้วเราเห็นที่มันออกมา ที่มั...   \n",
              "1486  แล้วพระอาจารย์แม่ไม่ขาชาบ้างเหรอคะพระอาจารย์นั...   \n",
              "646                             อยากทราบกำหนดเวลาไลฟ์คะ   \n",
              "\n",
              "                                                 answer  \n",
              "369   ก็ท่องธาตุในระหว่างวันไป แล้วก็ก่อนนอนก็สวดบทอ...  \n",
              "1459  สวดบทรัตนปริตรนี้ในช่วงโควิดได้ทุกวันไม่ได้มีป...  \n",
              "183   พระอาจารย์ให้สวดย้ำ ๆ ซ้ำ ๆ 3-7 รอบ เพื่อต้องก...  \n",
              "1330    ยินดีด้วย ทําบุญมาดี ดีมาก คนไม่รู้สึกอะไรนี่ดี  \n",
              "2085  สวดมนต์แล้วหาว ใครก็ตามที่มีอาการอย่างนี้ขอให้...  \n",
              "907   ถามว่าขาดไหม มันขึ้นอยู่กับว่าเขามีความเห็นเกี...  \n",
              "797                                          ก็เปลวมัน   \n",
              "1486  ไม่รู้สึกอะไรเลยไม่ขาไม่ชาไม่เจ็บไม่ปวดอาตมานั...  \n",
              "646   พระอาจารย์ไม่ได้กำหนดเวลาที่แน่นอน หากมีการไลฟ...  "
            ],
            "text/html": [
              "\n",
              "  <div id=\"df-1cf9907e-009f-4afd-bb91-62439997fe00\" class=\"colab-df-container\">\n",
              "    <div>\n",
              "<style scoped>\n",
              "    .dataframe tbody tr th:only-of-type {\n",
              "        vertical-align: middle;\n",
              "    }\n",
              "\n",
              "    .dataframe tbody tr th {\n",
              "        vertical-align: top;\n",
              "    }\n",
              "\n",
              "    .dataframe thead th {\n",
              "        text-align: right;\n",
              "    }\n",
              "</style>\n",
              "<table border=\"1\" class=\"dataframe\">\n",
              "  <thead>\n",
              "    <tr style=\"text-align: right;\">\n",
              "      <th></th>\n",
              "      <th>question</th>\n",
              "      <th>answer</th>\n",
              "    </tr>\n",
              "  </thead>\n",
              "  <tbody>\n",
              "    <tr>\n",
              "      <th>369</th>\n",
              "      <td>ตอนนี้หนู ท่องธาตุ อยู่แต่วันหนึ่ง หนูก็ฝันไปว...</td>\n",
              "      <td>ก็ท่องธาตุในระหว่างวันไป แล้วก็ก่อนนอนก็สวดบทอ...</td>\n",
              "    </tr>\n",
              "    <tr>\n",
              "      <th>1459</th>\n",
              "      <td>การท่องพระปริตร ให้ท่องเมื่อตอนที่โควิดแรงแรงท...</td>\n",
              "      <td>สวดบทรัตนปริตรนี้ในช่วงโควิดได้ทุกวันไม่ได้มีป...</td>\n",
              "    </tr>\n",
              "    <tr>\n",
              "      <th>183</th>\n",
              "      <td>การท่องรัตนปริตร และบทอื่นๆ ทําไมเราต้องท่อง 3...</td>\n",
              "      <td>พระอาจารย์ให้สวดย้ำ ๆ ซ้ำ ๆ 3-7 รอบ เพื่อต้องก...</td>\n",
              "    </tr>\n",
              "    <tr>\n",
              "      <th>1330</th>\n",
              "      <td>สวดรัตนปริตรและอาฏานาฏิยปริตร ท่องธาตุแล้วไม่ร...</td>\n",
              "      <td>ยินดีด้วย ทําบุญมาดี ดีมาก คนไม่รู้สึกอะไรนี่ดี</td>\n",
              "    </tr>\n",
              "    <tr>\n",
              "      <th>2085</th>\n",
              "      <td>ควรสวดมนต์อย่างไรถึงจะถูกต้องหรือสวดมนต์แล้วหา...</td>\n",
              "      <td>สวดมนต์แล้วหาว ใครก็ตามที่มีอาการอย่างนี้ขอให้...</td>\n",
              "    </tr>\n",
              "    <tr>\n",
              "      <th>907</th>\n",
              "      <td>คืออย่างที่เห็นทุกวันนี้ส่วนใหญ่นั้นจะมีพระพุท...</td>\n",
              "      <td>ถามว่าขาดไหม มันขึ้นอยู่กับว่าเขามีความเห็นเกี...</td>\n",
              "    </tr>\n",
              "    <tr>\n",
              "      <th>797</th>\n",
              "      <td>แล้วเวลาที่อาบน้ําแล้วเราเห็นที่มันออกมา ที่มั...</td>\n",
              "      <td>ก็เปลวมัน</td>\n",
              "    </tr>\n",
              "    <tr>\n",
              "      <th>1486</th>\n",
              "      <td>แล้วพระอาจารย์แม่ไม่ขาชาบ้างเหรอคะพระอาจารย์นั...</td>\n",
              "      <td>ไม่รู้สึกอะไรเลยไม่ขาไม่ชาไม่เจ็บไม่ปวดอาตมานั...</td>\n",
              "    </tr>\n",
              "    <tr>\n",
              "      <th>646</th>\n",
              "      <td>อยากทราบกำหนดเวลาไลฟ์คะ</td>\n",
              "      <td>พระอาจารย์ไม่ได้กำหนดเวลาที่แน่นอน หากมีการไลฟ...</td>\n",
              "    </tr>\n",
              "  </tbody>\n",
              "</table>\n",
              "</div>\n",
              "    <div class=\"colab-df-buttons\">\n",
              "\n",
              "  <div class=\"colab-df-container\">\n",
              "    <button class=\"colab-df-convert\" onclick=\"convertToInteractive('df-1cf9907e-009f-4afd-bb91-62439997fe00')\"\n",
              "            title=\"Convert this dataframe to an interactive table.\"\n",
              "            style=\"display:none;\">\n",
              "\n",
              "  <svg xmlns=\"http://www.w3.org/2000/svg\" height=\"24px\" viewBox=\"0 -960 960 960\">\n",
              "    <path d=\"M120-120v-720h720v720H120Zm60-500h600v-160H180v160Zm220 220h160v-160H400v160Zm0 220h160v-160H400v160ZM180-400h160v-160H180v160Zm440 0h160v-160H620v160ZM180-180h160v-160H180v160Zm440 0h160v-160H620v160Z\"/>\n",
              "  </svg>\n",
              "    </button>\n",
              "\n",
              "  <style>\n",
              "    .colab-df-container {\n",
              "      display:flex;\n",
              "      gap: 12px;\n",
              "    }\n",
              "\n",
              "    .colab-df-convert {\n",
              "      background-color: #E8F0FE;\n",
              "      border: none;\n",
              "      border-radius: 50%;\n",
              "      cursor: pointer;\n",
              "      display: none;\n",
              "      fill: #1967D2;\n",
              "      height: 32px;\n",
              "      padding: 0 0 0 0;\n",
              "      width: 32px;\n",
              "    }\n",
              "\n",
              "    .colab-df-convert:hover {\n",
              "      background-color: #E2EBFA;\n",
              "      box-shadow: 0px 1px 2px rgba(60, 64, 67, 0.3), 0px 1px 3px 1px rgba(60, 64, 67, 0.15);\n",
              "      fill: #174EA6;\n",
              "    }\n",
              "\n",
              "    .colab-df-buttons div {\n",
              "      margin-bottom: 4px;\n",
              "    }\n",
              "\n",
              "    [theme=dark] .colab-df-convert {\n",
              "      background-color: #3B4455;\n",
              "      fill: #D2E3FC;\n",
              "    }\n",
              "\n",
              "    [theme=dark] .colab-df-convert:hover {\n",
              "      background-color: #434B5C;\n",
              "      box-shadow: 0px 1px 3px 1px rgba(0, 0, 0, 0.15);\n",
              "      filter: drop-shadow(0px 1px 2px rgba(0, 0, 0, 0.3));\n",
              "      fill: #FFFFFF;\n",
              "    }\n",
              "  </style>\n",
              "\n",
              "    <script>\n",
              "      const buttonEl =\n",
              "        document.querySelector('#df-1cf9907e-009f-4afd-bb91-62439997fe00 button.colab-df-convert');\n",
              "      buttonEl.style.display =\n",
              "        google.colab.kernel.accessAllowed ? 'block' : 'none';\n",
              "\n",
              "      async function convertToInteractive(key) {\n",
              "        const element = document.querySelector('#df-1cf9907e-009f-4afd-bb91-62439997fe00');\n",
              "        const dataTable =\n",
              "          await google.colab.kernel.invokeFunction('convertToInteractive',\n",
              "                                                    [key], {});\n",
              "        if (!dataTable) return;\n",
              "\n",
              "        const docLinkHtml = 'Like what you see? Visit the ' +\n",
              "          '<a target=\"_blank\" href=https://colab.research.google.com/notebooks/data_table.ipynb>data table notebook</a>'\n",
              "          + ' to learn more about interactive tables.';\n",
              "        element.innerHTML = '';\n",
              "        dataTable['output_type'] = 'display_data';\n",
              "        await google.colab.output.renderOutput(dataTable, element);\n",
              "        const docLink = document.createElement('div');\n",
              "        docLink.innerHTML = docLinkHtml;\n",
              "        element.appendChild(docLink);\n",
              "      }\n",
              "    </script>\n",
              "  </div>\n",
              "\n",
              "\n",
              "<div id=\"df-8b72aca5-8514-4d52-86ee-66eba523a1ce\">\n",
              "  <button class=\"colab-df-quickchart\" onclick=\"quickchart('df-8b72aca5-8514-4d52-86ee-66eba523a1ce')\"\n",
              "            title=\"Suggest charts\"\n",
              "            style=\"display:none;\">\n",
              "\n",
              "<svg xmlns=\"http://www.w3.org/2000/svg\" height=\"24px\"viewBox=\"0 0 24 24\"\n",
              "     width=\"24px\">\n",
              "    <g>\n",
              "        <path d=\"M19 3H5c-1.1 0-2 .9-2 2v14c0 1.1.9 2 2 2h14c1.1 0 2-.9 2-2V5c0-1.1-.9-2-2-2zM9 17H7v-7h2v7zm4 0h-2V7h2v10zm4 0h-2v-4h2v4z\"/>\n",
              "    </g>\n",
              "</svg>\n",
              "  </button>\n",
              "\n",
              "<style>\n",
              "  .colab-df-quickchart {\n",
              "      --bg-color: #E8F0FE;\n",
              "      --fill-color: #1967D2;\n",
              "      --hover-bg-color: #E2EBFA;\n",
              "      --hover-fill-color: #174EA6;\n",
              "      --disabled-fill-color: #AAA;\n",
              "      --disabled-bg-color: #DDD;\n",
              "  }\n",
              "\n",
              "  [theme=dark] .colab-df-quickchart {\n",
              "      --bg-color: #3B4455;\n",
              "      --fill-color: #D2E3FC;\n",
              "      --hover-bg-color: #434B5C;\n",
              "      --hover-fill-color: #FFFFFF;\n",
              "      --disabled-bg-color: #3B4455;\n",
              "      --disabled-fill-color: #666;\n",
              "  }\n",
              "\n",
              "  .colab-df-quickchart {\n",
              "    background-color: var(--bg-color);\n",
              "    border: none;\n",
              "    border-radius: 50%;\n",
              "    cursor: pointer;\n",
              "    display: none;\n",
              "    fill: var(--fill-color);\n",
              "    height: 32px;\n",
              "    padding: 0;\n",
              "    width: 32px;\n",
              "  }\n",
              "\n",
              "  .colab-df-quickchart:hover {\n",
              "    background-color: var(--hover-bg-color);\n",
              "    box-shadow: 0 1px 2px rgba(60, 64, 67, 0.3), 0 1px 3px 1px rgba(60, 64, 67, 0.15);\n",
              "    fill: var(--button-hover-fill-color);\n",
              "  }\n",
              "\n",
              "  .colab-df-quickchart-complete:disabled,\n",
              "  .colab-df-quickchart-complete:disabled:hover {\n",
              "    background-color: var(--disabled-bg-color);\n",
              "    fill: var(--disabled-fill-color);\n",
              "    box-shadow: none;\n",
              "  }\n",
              "\n",
              "  .colab-df-spinner {\n",
              "    border: 2px solid var(--fill-color);\n",
              "    border-color: transparent;\n",
              "    border-bottom-color: var(--fill-color);\n",
              "    animation:\n",
              "      spin 1s steps(1) infinite;\n",
              "  }\n",
              "\n",
              "  @keyframes spin {\n",
              "    0% {\n",
              "      border-color: transparent;\n",
              "      border-bottom-color: var(--fill-color);\n",
              "      border-left-color: var(--fill-color);\n",
              "    }\n",
              "    20% {\n",
              "      border-color: transparent;\n",
              "      border-left-color: var(--fill-color);\n",
              "      border-top-color: var(--fill-color);\n",
              "    }\n",
              "    30% {\n",
              "      border-color: transparent;\n",
              "      border-left-color: var(--fill-color);\n",
              "      border-top-color: var(--fill-color);\n",
              "      border-right-color: var(--fill-color);\n",
              "    }\n",
              "    40% {\n",
              "      border-color: transparent;\n",
              "      border-right-color: var(--fill-color);\n",
              "      border-top-color: var(--fill-color);\n",
              "    }\n",
              "    60% {\n",
              "      border-color: transparent;\n",
              "      border-right-color: var(--fill-color);\n",
              "    }\n",
              "    80% {\n",
              "      border-color: transparent;\n",
              "      border-right-color: var(--fill-color);\n",
              "      border-bottom-color: var(--fill-color);\n",
              "    }\n",
              "    90% {\n",
              "      border-color: transparent;\n",
              "      border-bottom-color: var(--fill-color);\n",
              "    }\n",
              "  }\n",
              "</style>\n",
              "\n",
              "  <script>\n",
              "    async function quickchart(key) {\n",
              "      const quickchartButtonEl =\n",
              "        document.querySelector('#' + key + ' button');\n",
              "      quickchartButtonEl.disabled = true;  // To prevent multiple clicks.\n",
              "      quickchartButtonEl.classList.add('colab-df-spinner');\n",
              "      try {\n",
              "        const charts = await google.colab.kernel.invokeFunction(\n",
              "            'suggestCharts', [key], {});\n",
              "      } catch (error) {\n",
              "        console.error('Error during call to suggestCharts:', error);\n",
              "      }\n",
              "      quickchartButtonEl.classList.remove('colab-df-spinner');\n",
              "      quickchartButtonEl.classList.add('colab-df-quickchart-complete');\n",
              "    }\n",
              "    (() => {\n",
              "      let quickchartButtonEl =\n",
              "        document.querySelector('#df-8b72aca5-8514-4d52-86ee-66eba523a1ce button');\n",
              "      quickchartButtonEl.style.display =\n",
              "        google.colab.kernel.accessAllowed ? 'block' : 'none';\n",
              "    })();\n",
              "  </script>\n",
              "</div>\n",
              "    </div>\n",
              "  </div>\n"
            ],
            "application/vnd.google.colaboratory.intrinsic+json": {
              "type": "dataframe",
              "summary": "{\n  \"name\": \"df[1:]\",\n  \"rows\": 9,\n  \"fields\": [\n    {\n      \"column\": \"question\",\n      \"properties\": {\n        \"dtype\": \"string\",\n        \"num_unique_values\": 9,\n        \"samples\": [\n          \"\\u0e41\\u0e25\\u0e49\\u0e27\\u0e1e\\u0e23\\u0e30\\u0e2d\\u0e32\\u0e08\\u0e32\\u0e23\\u0e22\\u0e4c\\u0e41\\u0e21\\u0e48\\u0e44\\u0e21\\u0e48\\u0e02\\u0e32\\u0e0a\\u0e32\\u0e1a\\u0e49\\u0e32\\u0e07\\u0e40\\u0e2b\\u0e23\\u0e2d\\u0e04\\u0e30\\u0e1e\\u0e23\\u0e30\\u0e2d\\u0e32\\u0e08\\u0e32\\u0e23\\u0e22\\u0e4c\\u0e19\\u0e31\\u0e48\\u0e07\\u0e2b\\u0e25\\u0e32\\u0e22\\u0e2b\\u0e25\\u0e32\\u0e22\\u0e0a\\u0e31\\u0e48\\u0e27\\u0e42\\u0e21\\u0e07\\u0e44\\u0e21\\u0e48\\n\\u0e44\\u0e21\\u0e48\\u0e23\\u0e39\\u0e49\\u0e2a\\u0e36\\u0e01\\u0e40\\u0e25\\u0e22\",\n          \"\\u0e01\\u0e32\\u0e23\\u0e17\\u0e48\\u0e2d\\u0e07\\u0e1e\\u0e23\\u0e30\\u0e1b\\u0e23\\u0e34\\u0e15\\u0e23 \\u0e43\\u0e2b\\u0e49\\u0e17\\u0e48\\u0e2d\\u0e07\\u0e40\\u0e21\\u0e37\\u0e48\\u0e2d\\u0e15\\u0e2d\\u0e19\\u0e17\\u0e35\\u0e48\\u0e42\\u0e04\\u0e27\\u0e34\\u0e14\\u0e41\\u0e23\\u0e07\\u0e41\\u0e23\\u0e07\\u0e17\\u0e35\\u0e48\\u0e43\\u0e2b\\u0e49\\u0e2a\\u0e27\\u0e14\\u0e27\\u0e31\\u0e19\\u0e25\\u0e30\\u0e2a\\u0e32\\u0e21\\u0e08\\u0e1a\\u0e2a\\u0e32\\u0e21\\u0e32\\u0e23\\u0e16\\u0e2a\\u0e27\\u0e14\\u0e44\\u0e14\\u0e49\\u0e17\\u0e38\\u0e01\\u0e27\\u0e31\\u0e19\\u0e2b\\u0e23\\u0e37\\u0e2d\\u0e40\\u0e1b\\u0e25\\u0e48\\u0e32\\u0e04\\u0e30 \\u0e2b\\u0e23\\u0e37\\u0e2d\\u0e16\\u0e49\\u0e32\\u0e44\\u0e21\\u0e48\\u0e04\\u0e27\\u0e23\\u0e17\\u0e48\\u0e2d\\u0e07\\u0e1a\\u0e17\\u0e44\\u0e2b\\u0e19\\u0e41\\u0e17\\u0e19\\u0e04\\u0e30\",\n          \"\\u0e04\\u0e37\\u0e2d\\u0e2d\\u0e22\\u0e48\\u0e32\\u0e07\\u0e17\\u0e35\\u0e48\\u0e40\\u0e2b\\u0e47\\u0e19\\u0e17\\u0e38\\u0e01\\u0e27\\u0e31\\u0e19\\u0e19\\u0e35\\u0e49\\u0e2a\\u0e48\\u0e27\\u0e19\\u0e43\\u0e2b\\u0e0d\\u0e48\\u0e19\\u0e31\\u0e49\\u0e19\\u0e08\\u0e30\\u0e21\\u0e35\\u0e1e\\u0e23\\u0e30\\u0e1e\\u0e38\\u0e17\\u0e18\\u0e23\\u0e39\\u0e1b\\u0e41\\u0e25\\u0e49\\u0e27\\u0e21\\u0e35\\u0e01\\u0e32\\u0e23\\u0e2a\\u0e27\\u0e14\\u0e21\\u0e19\\u0e15\\u0e4c\\u0e40\\u0e1b\\u0e47\\u0e19\\u0e2a\\u0e27\\u0e14\\u0e43\\u0e2b\\u0e0d\\u0e48 \\u0e2d\\u0e22\\u0e48\\u0e32\\u0e07\\u0e19\\u0e35\\u0e49\\u0e04\\u0e48\\u0e30\\u0e01\\u0e47\\u0e16\\u0e37\\u0e2d\\u0e27\\u0e48\\u0e32\\u0e02\\u0e32\\u0e14\\u0e08\\u0e32\\u0e01\\u0e1e\\u0e23\\u0e30\\u0e23\\u0e31\\u0e15\\u0e19\\u0e15\\u0e23\\u0e31\\u0e22\\u0e16\\u0e39\\u0e01\\u0e44\\u0e2b\\u0e21\\u0e04\\u0e30\\u0e2b\\u0e23\\u0e37\\u0e2d\\u0e27\\u0e48\\u0e32\\u0e22\\u0e31\\u0e07 \"\n        ],\n        \"semantic_type\": \"\",\n        \"description\": \"\"\n      }\n    },\n    {\n      \"column\": \"answer\",\n      \"properties\": {\n        \"dtype\": \"string\",\n        \"num_unique_values\": 9,\n        \"samples\": [\n          \"\\u0e44\\u0e21\\u0e48\\u0e23\\u0e39\\u0e49\\u0e2a\\u0e36\\u0e01\\u0e2d\\u0e30\\u0e44\\u0e23\\u0e40\\u0e25\\u0e22\\u0e44\\u0e21\\u0e48\\u0e02\\u0e32\\u0e44\\u0e21\\u0e48\\u0e0a\\u0e32\\u0e44\\u0e21\\u0e48\\u0e40\\u0e08\\u0e47\\u0e1a\\u0e44\\u0e21\\u0e48\\u0e1b\\u0e27\\u0e14\\u0e2d\\u0e32\\u0e15\\u0e21\\u0e32\\u0e19\\u0e31\\u0e48\\u0e07\\u0e2a\\u0e21\\u0e32\\u0e18\\u0e34\\u0e19\\u0e35\\u0e48\\u0e22\\u0e31\\u0e07\\u0e44\\u0e21\\u0e48\\u0e17\\u0e31\\u0e19\\u0e40\\u0e08\\u0e47\\u0e1a\\u0e02\\u0e32\\u0e40\\u0e25\\u0e22\\u0e19\\u0e30\\u0e22\\u0e31\\u0e07\\u0e44\\u0e21\\u0e48\\u0e17\\u0e31\\u0e19\\u0e44\\u0e14\\u0e49\\u0e40\\u0e08\\u0e47\\u0e1a\\u0e40\\u0e25\\u0e22\\u0e2a\\u0e34\\u0e1a\\u0e19\\u0e32\\u0e17\\u0e35\\u0e22\\u0e31\\u0e07\\u0e44\\u0e21\\u0e48\\u0e17\\u0e31\\u0e19\\u0e44\\u0e14\\u0e49\\u0e40\\u0e08\\u0e47\\u0e1a\\u0e40\\u0e25\\u0e22\\u0e02\\u0e32\\u0e14\\u0e01\\u0e32\\u0e23\\u0e23\\u0e31\\u0e1a\\u0e23\\u0e39\\u0e49\\u0e25\\u0e07\\u0e44\\u0e1b\\u0e44\\u0e14\\u0e49\\u0e0a\\u0e2d\\u0e1a\\u0e43\\u0e08\\u0e19\\u0e35\\u0e48\\u0e19\\u0e31\\u0e48\\u0e07\\u0e41\\u0e1a\\u0e1a\\u0e02\\u0e49\\u0e32\\u0e21\\u0e27\\u0e31\\u0e19\\u0e02\\u0e49\\u0e32\\u0e21\\u0e04\\u0e37\\u0e19\\u0e40\\u0e25\\u0e22\",\n          \"\\u0e2a\\u0e27\\u0e14\\u0e1a\\u0e17\\u0e23\\u0e31\\u0e15\\u0e19\\u0e1b\\u0e23\\u0e34\\u0e15\\u0e23\\u0e19\\u0e35\\u0e49\\u0e43\\u0e19\\u0e0a\\u0e48\\u0e27\\u0e07\\u0e42\\u0e04\\u0e27\\u0e34\\u0e14\\u0e44\\u0e14\\u0e49\\u0e17\\u0e38\\u0e01\\u0e27\\u0e31\\u0e19\\u0e44\\u0e21\\u0e48\\u0e44\\u0e14\\u0e49\\u0e21\\u0e35\\u0e1b\\u0e31\\u0e0d\\u0e2b\\u0e32\\u0e2d\\u0e30\\u0e44\\u0e23\",\n          \"\\u0e16\\u0e32\\u0e21\\u0e27\\u0e48\\u0e32\\u0e02\\u0e32\\u0e14\\u0e44\\u0e2b\\u0e21 \\u0e21\\u0e31\\u0e19\\u0e02\\u0e36\\u0e49\\u0e19\\u0e2d\\u0e22\\u0e39\\u0e48\\u0e01\\u0e31\\u0e1a\\u0e27\\u0e48\\u0e32\\u0e40\\u0e02\\u0e32\\u0e21\\u0e35\\u0e04\\u0e27\\u0e32\\u0e21\\u0e40\\u0e2b\\u0e47\\u0e19\\u0e40\\u0e01\\u0e35\\u0e48\\u0e22\\u0e27\\u0e01\\u0e31\\u0e1a\\u0e1e\\u0e23\\u0e30\\u0e23\\u0e31\\u0e15\\u0e19\\u0e15\\u0e23\\u0e31\\u0e22\\u0e22\\u0e31\\u0e07\\u0e44\\u0e07\\u0e40\\u0e02\\u0e49\\u0e32\\u0e43\\u0e08\\u0e44\\u0e2b\\u0e21 \\u0e16\\u0e49\\u0e32\\u0e40\\u0e23\\u0e32\\u0e21\\u0e35\\u0e04\\u0e27\\u0e32\\u0e21\\u0e40\\u0e2b\\u0e47\\u0e19\\u0e27\\u0e48\\u0e32\\u0e1e\\u0e23\\u0e30\\u0e1e\\u0e38\\u0e17\\u0e18\\u0e40\\u0e08\\u0e49\\u0e32\\u0e40\\u0e1b\\u0e47\\u0e19\\u0e1a\\u0e38\\u0e04\\u0e04\\u0e25\\u0e1c\\u0e39\\u0e49\\u0e40\\u0e25\\u0e34\\u0e28\\u0e17\\u0e35\\u0e48\\u0e2a\\u0e38\\u0e14\\u0e43\\u0e19\\u0e42\\u0e25\\u0e01\\u0e42\\u0e14\\u0e22\\u0e21\\u0e35\\u0e20\\u0e32\\u0e27\\u0e30\\u0e43\\u0e14\\u0e20\\u0e32\\u0e27\\u0e30\\u0e2b\\u0e19\\u0e36\\u0e48\\u0e07\\u0e2d\\u0e22\\u0e39\\u0e48\\u0e15\\u0e2d\\u0e19\\u0e19\\u0e35\\u0e49 \\u0e41\\u0e25\\u0e49\\u0e27\\u0e04\\u0e2d\\u0e22\\u0e21\\u0e2d\\u0e07\\u0e14\\u0e39\\u0e21\\u0e19\\u0e38\\u0e29\\u0e22\\u0e4c\\u0e42\\u0e25\\u0e01\\u0e1c\\u0e39\\u0e49\\u0e40\\u0e1b\\u0e47\\u0e19\\u0e1e\\u0e38\\u0e17\\u0e18\\u0e28\\u0e32\\u0e2a\\u0e19\\u0e34\\u0e01\\u0e0a\\u0e19\\u0e41\\u0e25\\u0e30\\u0e08\\u0e30\\u0e04\\u0e2d\\u0e22\\u0e14\\u0e25\\u0e1a\\u0e31\\u0e19\\u0e14\\u0e32\\u0e25\\u0e2d\\u0e22\\u0e48\\u0e32\\u0e07\\u0e19\\u0e35\\u0e49\\u0e44\\u0e21\\u0e48\\u0e0a\\u0e37\\u0e48\\u0e2d\\u0e27\\u0e48\\u0e32\\u0e40\\u0e1b\\u0e47\\u0e19\\u0e1a\\u0e38\\u0e04\\u0e04\\u0e25\\u0e1e\\u0e39\\u0e14\\u0e16\\u0e36\\u0e07\\u0e1e\\u0e23\\u0e30\\u0e1e\\u0e38\\u0e17\\u0e18\\u0e40\\u0e08\\u0e49\\u0e32 \\u0e40\\u0e1e\\u0e23\\u0e32\\u0e30\\u0e21\\u0e35\\u0e04\\u0e27\\u0e32\\u0e21\\u0e40\\u0e2b\\u0e47\\u0e19\\u0e1c\\u0e34\\u0e14\\u0e04\\u0e37\\u0e2d\\u0e21\\u0e35\\u0e04\\u0e27\\u0e32\\u0e21\\u0e40\\u0e2b\\u0e47\\u0e19\\u0e1c\\u0e34\\u0e14\\u0e43\\u0e19\\u0e15\\u0e31\\u0e27\\u0e1e\\u0e23\\u0e30\\u0e2d\\u0e07\\u0e04\\u0e4c\\u0e22\\u0e48\\u0e2d\\u0e21\\u0e40\\u0e2b\\u0e47\\u0e19\\u0e1c\\u0e34\\u0e14\\u0e43\\u0e19\\u0e18\\u0e23\\u0e23\\u0e21 \\u0e22\\u0e48\\u0e2d\\u0e21\\u0e40\\u0e02\\u0e49\\u0e32\\u0e43\\u0e08\\u0e27\\u0e48\\u0e32\\u0e18\\u0e23\\u0e23\\u0e21\\u0e19\\u0e31\\u0e49\\u0e19\\u0e04\\u0e37\\u0e2d\\u0e15\\u0e31\\u0e27\\u0e2b\\u0e19\\u0e31\\u0e07\\u0e2a\\u0e37\\u0e2d \\u0e18\\u0e23\\u0e23\\u0e21\\u0e19\\u0e35\\u0e48\\u0e04\\u0e37\\u0e2d\\u0e04\\u0e4d\\u0e32\\u0e2a\\u0e2d\\u0e19\\u0e02\\u0e2d\\u0e07\\u0e1e\\u0e23\\u0e30\\u0e2d\\u0e07\\u0e04\\u0e4c \\u0e21\\u0e35\\u0e44\\u0e27\\u0e49\\u0e40\\u0e1e\\u0e37\\u0e48\\u0e2d\\u0e43\\u0e2b\\u0e49\\u0e44\\u0e14\\u0e49\\u0e2a\\u0e27\\u0e14 \\u0e16\\u0e32\\u0e21\\u0e27\\u0e48\\u0e32\\u0e2a\\u0e27\\u0e14\\u0e40\\u0e1e\\u0e37\\u0e48\\u0e2d\\u0e2d\\u0e30\\u0e44\\u0e23\\u0e01\\u0e47\\u0e40\\u0e02\\u0e49\\u0e32\\u0e43\\u0e08\\u0e27\\u0e48\\u0e32\\u0e01\\u0e32\\u0e23\\u0e2a\\u0e27\\u0e14\\u0e19\\u0e31\\u0e49\\u0e19\\u0e04\\u0e37\\u0e2d\\u0e02\\u0e49\\u0e2d\\u0e1b\\u0e0f\\u0e34\\u0e1a\\u0e31\\u0e15\\u0e34 \\u0e1e\\u0e2d\\u0e40\\u0e02\\u0e49\\u0e32\\u0e43\\u0e08\\u0e2d\\u0e22\\u0e48\\u0e32\\u0e07\\u0e19\\u0e35\\u0e49\\u0e22\\u0e48\\u0e2d\\u0e21\\u0e40\\u0e02\\u0e49\\u0e32\\u0e43\\u0e08\\u0e1c\\u0e34\\u0e14\\u0e27\\u0e48\\u0e32\\u0e1e\\u0e23\\u0e30\\u0e2d\\u0e07\\u0e04\\u0e4c\\u0e08\\u0e30\\u0e21\\u0e32\\u0e14\\u0e25\\u0e1a\\u0e31\\u0e19\\u0e14\\u0e32\\u0e25\\u0e04\\u0e37\\u0e2d\\u0e08\\u0e30\\u0e2a\\u0e23\\u0e49\\u0e32\\u0e07\\u0e04\\u0e27\\u0e32\\u0e21\\u0e2a\\u0e38\\u0e02\\u0e43\\u0e2b\\u0e49\\u0e21\\u0e19\\u0e38\\u0e29\\u0e22\\u0e4c\\u0e08\\u0e30\\u0e17\\u0e4d\\u0e32\\u0e04\\u0e27\\u0e32\\u0e21\\u0e1e\\u0e49\\u0e19\\u0e17\\u0e38\\u0e01\\u0e02\\u0e4c\\u0e43\\u0e2b\\u0e49\\u0e21\\u0e19\\u0e38\\u0e29\\u0e22\\u0e4c\\u0e08\\u0e30\\u0e43\\u0e2b\\u0e49\\u0e21\\u0e19\\u0e38\\u0e29\\u0e22\\u0e4c\\u0e19\\u0e31\\u0e49\\u0e19\\u0e2d\\u0e22\\u0e39\\u0e48\\u0e14\\u0e35\\u0e21\\u0e35\\u0e2a\\u0e38\\u0e02 \\u0e21\\u0e35\\u0e17\\u0e23\\u0e31\\u0e1e\\u0e22\\u0e4c\\u0e2a\\u0e21\\u0e1a\\u0e31\\u0e15\\u0e34\\u0e17\\u0e23\\u0e31\\u0e1e\\u0e22\\u0e4c\\u0e28\\u0e24\\u0e07\\u0e04\\u0e32\\u0e23\\u0e2d\\u0e30\\u0e44\\u0e23\\u0e2d\\u0e22\\u0e48\\u0e32\\u0e07\\u0e19\\u0e35\\u0e49 \\u0e08\\u0e30\\u0e1e\\u0e32\\u0e21\\u0e19\\u0e38\\u0e29\\u0e22\\u0e4c\\u0e19\\u0e35\\u0e49\\u0e44\\u0e1b\\u0e2a\\u0e39\\u0e48\\u0e2a\\u0e27\\u0e23\\u0e23\\u0e04\\u0e4c\\u0e2d\\u0e30\\u0e44\\u0e23\\u0e2d\\u0e22\\u0e48\\u0e32\\u0e07\\u0e19\\u0e35\\u0e49 \\u0e16\\u0e49\\u0e32\\u0e2b\\u0e32\\u0e01\\u0e21\\u0e35\\u0e04\\u0e27\\u0e32\\u0e21\\u0e40\\u0e2b\\u0e47\\u0e19\\u0e2d\\u0e22\\u0e48\\u0e32\\u0e07\\u0e19\\u0e35\\u0e49\\u0e2d\\u0e22\\u0e39\\u0e48\\u0e01\\u0e47\\u0e16\\u0e37\\u0e2d\\u0e27\\u0e48\\u0e32\\u0e02\\u0e32\\u0e14\\u0e04\\u0e37\\u0e2d\\u0e02\\u0e32\\u0e14\\u0e42\\u0e14\\u0e22\\u0e2a\\u0e34\\u0e49\\u0e19\\u0e40\\u0e0a\\u0e34\\u0e07\\u0e40\\u0e25\\u0e22 \\u0e41\\u0e21\\u0e49\\u0e1b\\u0e0f\\u0e34\\u0e0d\\u0e32\\u0e13\\u0e27\\u0e48\\u0e32\\u0e15\\u0e19\\u0e40\\u0e2d\\u0e07\\u0e27\\u0e48\\u0e32\\u0e40\\u0e1b\\u0e47\\u0e19\\u0e04\\u0e19\\u0e1e\\u0e38\\u0e17\\u0e18\\u0e01\\u0e47\\u0e44\\u0e21\\u0e48\\u0e40\\u0e1b\\u0e47\\u0e19 \\u0e21\\u0e31\\u0e19\\u0e08\\u0e36\\u0e07\\u0e21\\u0e35\\u0e01\\u0e32\\u0e23\\u0e16\\u0e36\\u0e07\\u0e14\\u0e49\\u0e27\\u0e22\\u0e25\\u0e31\\u0e01\\u0e29\\u0e13\\u0e30\\u0e01\\u0e32\\u0e23\\u0e16\\u0e36\\u0e07\\u0e2a\\u0e35\\u0e48\\u0e1b\\u0e23\\u0e30\\u0e01\\u0e32\\u0e23\\u0e19\\u0e31\\u0e49\\u0e19\\u0e2d\\u0e22\\u0e48\\u0e32\\u0e07\\u0e40\\u0e0a\\u0e48\\u0e19\\u0e21\\u0e2d\\u0e1a\\u0e01\\u0e32\\u0e22\\u0e16\\u0e27\\u0e32\\u0e22\\u0e0a\\u0e35\\u0e27\\u0e34\\u0e15 \\u0e2d\\u0e22\\u0e48\\u0e32\\u0e07\\u0e40\\u0e0a\\u0e48\\u0e19\\u0e40\\u0e04\\u0e32\\u0e23\\u0e1e\\u0e04\\u0e37\\u0e2d\\u0e41\\u0e2a\\u0e14\\u0e07\\u0e04\\u0e27\\u0e32\\u0e21\\u0e40\\u0e04\\u0e32\\u0e23\\u0e1e \\u0e19\\u0e2d\\u0e1a\\u0e19\\u0e49\\u0e2d\\u0e21 \\u0e16\\u0e36\\u0e07\\u0e2a\\u0e2d\\u0e07\\u0e2d\\u0e22\\u0e48\\u0e32\\u0e07 \\u0e2a\\u0e2d\\u0e07\\u0e2d\\u0e22\\u0e48\\u0e32\\u0e07\\u0e19\\u0e35\\u0e49\\u0e16\\u0e36\\u0e07\\u0e14\\u0e49\\u0e27\\u0e22\\u0e44\\u0e21\\u0e48\\u0e02\\u0e32\\u0e14\\u0e01\\u0e31\\u0e1a\\u0e02\\u0e36\\u0e07\\u0e14\\u0e49\\u0e27\\u0e22\\u0e02\\u0e32\\u0e14\\u0e04\\u0e37\\u0e2d\\u0e2a\\u0e32\\u0e21\\u0e32\\u0e23\\u0e16\\u0e02\\u0e32\\u0e14\\u0e44\\u0e14\\u0e49 \\u0e16\\u0e36\\u0e07\\u0e42\\u0e14\\u0e22\\u0e01\\u0e32\\u0e23\\u0e21\\u0e2d\\u0e1a\\u0e01\\u0e32\\u0e22\\u0e16\\u0e27\\u0e32\\u0e22\\u0e0a\\u0e35\\u0e27\\u0e34\\u0e15 \\u0e16\\u0e36\\u0e07\\u0e14\\u0e49\\u0e27\\u0e22\\u0e01\\u0e32\\u0e23\\u0e21\\u0e2d\\u0e1a\\u0e15\\u0e31\\u0e27\\u0e40\\u0e1b\\u0e47\\u0e19\\u0e28\\u0e34\\u0e29\\u0e22\\u0e4c \\u0e16\\u0e36\\u0e07\\u0e14\\u0e49\\u0e27\\u0e22\\u0e01\\u0e32\\u0e23\\u0e41\\u0e2a\\u0e14\\u0e07\\u0e04\\u0e27\\u0e32\\u0e21\\u0e19\\u0e2d\\u0e1a\\u0e19\\u0e49\\u0e2d\\u0e21 \\u0e16\\u0e32\\u0e21\\u0e27\\u0e48\\u0e32\\u0e22\\u0e31\\u0e07\\u0e44\\u0e07 \\u0e16\\u0e36\\u0e07\\u0e42\\u0e14\\u0e22\\u0e01\\u0e32\\u0e23\\u0e21\\u0e35\\u0e1e\\u0e23\\u0e30\\u0e1e\\u0e38\\u0e17\\u0e18 \\u0e1e\\u0e23\\u0e30\\u0e18\\u0e23\\u0e23\\u0e21 \\u0e1e\\u0e23\\u0e30\\u0e2a\\u0e07\\u0e06\\u0e4c\\u0e40\\u0e1b\\u0e47\\u0e19\\u0e40\\u0e1a\\u0e37\\u0e49\\u0e2d\\u0e07\\u0e2b\\u0e19\\u0e49\\u0e32 \\u0e27\\u0e31\\u0e01\\u0e01\\u0e25\\u0e34\\u0e40\\u0e14\\u0e34\\u0e19\\u0e15\\u0e32\\u0e21\\u0e1e\\u0e23\\u0e30\\u0e1e\\u0e38\\u0e17\\u0e18\\u0e40\\u0e08\\u0e49\\u0e32 \\u0e40\\u0e1b\\u0e47\\u0e19\\u0e1a\\u0e38\\u0e04\\u0e04\\u0e25\\u0e1e\\u0e39\\u0e14\\u0e16\\u0e36\\u0e07\\u0e1e\\u0e23\\u0e30\\u0e23\\u0e31\\u0e15\\u0e19\\u0e15\\u0e23\\u0e31\\u0e22\\u0e40\\u0e2b\\u0e21\\u0e37\\u0e2d\\u0e19\\u0e01\\u0e31\\u0e19\\u0e41\\u0e15\\u0e48\\u0e23\\u0e31\\u0e15\\u0e19\\u0e15\\u0e23\\u0e31\\u0e22\\u0e17\\u0e35\\u0e48\\u0e16\\u0e36\\u0e07\\u0e02\\u0e2d\\u0e07\\u0e27\\u0e31\\u0e01\\u0e01\\u0e25\\u0e34\\u0e19\\u0e31\\u0e49\\u0e19\\u0e44\\u0e21\\u0e48\\u0e43\\u0e0a\\u0e48\\u0e23\\u0e31\\u0e15\\u0e19\\u0e15\\u0e23\\u0e31\\u0e22\\u0e17\\u0e35\\u0e48\\u0e44\\u0e21\\u0e48\\u0e02\\u0e32\\u0e14 \\u0e2a\\u0e32\\u0e21\\u0e32\\u0e23\\u0e16\\u0e02\\u0e32\\u0e14\\u0e44\\u0e14\\u0e49 \\u0e1e\\u0e23\\u0e30\\u0e2d\\u0e07\\u0e04\\u0e4c\\u0e01\\u0e25\\u0e48\\u0e32\\u0e27\\u0e15\\u0e4d\\u0e32\\u0e2b\\u0e19\\u0e34\\u0e27\\u0e31\\u0e01\\u0e01\\u0e25\\u0e34\\u0e27\\u0e48\\u0e32\\u0e27\\u0e31\\u0e01\\u0e01\\u0e25\\u0e34\\u0e40\\u0e18\\u0e2d\\u0e40\\u0e14\\u0e34\\u0e19\\u0e15\\u0e32\\u0e21\\u0e40\\u0e23\\u0e32\\u0e2d\\u0e22\\u0e48\\u0e32\\u0e07\\u0e19\\u0e35\\u0e49 \\u0e40\\u0e18\\u0e2d\\u0e01\\u0e47\\u0e44\\u0e21\\u0e48\\u0e40\\u0e2b\\u0e47\\u0e19\\u0e40\\u0e23\\u0e32\\u0e2b\\u0e23\\u0e2d\\u0e01 \\u0e04\\u0e37\\u0e2d\\u0e44\\u0e21\\u0e48\\u0e40\\u0e2b\\u0e47\\u0e19\\u0e19\\u0e31\\u0e49\\u0e19\\u0e04\\u0e37\\u0e2d\\u0e44\\u0e21\\u0e48\\u0e40\\u0e2b\\u0e47\\u0e19\\u0e1e\\u0e38\\u0e17\\u0e18\\u0e30\\u0e2d\\u0e31\\u0e19\\u0e40\\u0e1b\\u0e47\\u0e19\\u0e1e\\u0e38\\u0e17\\u0e18\\u0e30 \\u0e41\\u0e15\\u0e48\\u0e16\\u0e36\\u0e07\\u0e23\\u0e31\\u0e15\\u0e19\\u0e15\\u0e23\\u0e31\\u0e22\\u0e2d\\u0e22\\u0e39\\u0e48\\u0e04\\u0e37\\u0e2d\\u0e16\\u0e36\\u0e07\\u0e2d\\u0e22\\u0e39\\u0e48\\u0e40\\u0e1e\\u0e23\\u0e32\\u0e30\\u0e28\\u0e23\\u0e31\\u0e17\\u0e18\\u0e32\\u0e43\\u0e19\\u0e15\\u0e31\\u0e27\\u0e1e\\u0e23\\u0e30\\u0e2d\\u0e07\\u0e04\\u0e4c \\u0e1e\\u0e23\\u0e30\\u0e2d\\u0e07\\u0e04\\u0e4c\\u0e40\\u0e02\\u0e49\\u0e32\\u0e43\\u0e08\\u0e27\\u0e48\\u0e32\\u0e40\\u0e19\\u0e37\\u0e49\\u0e2d\\u0e2b\\u0e19\\u0e31\\u0e07\\u0e21\\u0e31\\u0e07\\u0e2a\\u0e32\\u0e19\\u0e35\\u0e48\\u0e41\\u0e2b\\u0e25\\u0e30\\u0e40\\u0e1b\\u0e47\\u0e19\\u0e1e\\u0e38\\u0e17\\u0e18\\u0e30 \\u0e28\\u0e23\\u0e31\\u0e17\\u0e18\\u0e32\\u0e2d\\u0e22\\u0e48\\u0e32\\u0e07\\u0e19\\u0e35\\u0e49\\u0e02\\u0e32\\u0e14\\u0e44\\u0e14\\u0e49 \\u0e41\\u0e25\\u0e49\\u0e27\\u0e17\\u0e38\\u0e01\\u0e27\\u0e31\\u0e19\\u0e19\\u0e35\\u0e49\\u0e1a\\u0e32\\u0e07\\u0e04\\u0e19\\u0e43\\u0e19\\u0e42\\u0e25\\u0e01\\u0e19\\u0e35\\u0e49\\u0e2d\\u0e32\\u0e08\\u0e08\\u0e30\\u0e21\\u0e35\\u0e28\\u0e23\\u0e31\\u0e17\\u0e18\\u0e32\\u0e44\\u0e14\\u0e49 \\u0e41\\u0e15\\u0e48\\u0e1a\\u0e32\\u0e07\\u0e04\\u0e19\\u0e43\\u0e19\\u0e42\\u0e25\\u0e01\\u0e19\\u0e35\\u0e49\\u0e40\\u0e02\\u0e49\\u0e32\\u0e43\\u0e08\\u0e27\\u0e48\\u0e32\\u0e23\\u0e39\\u0e1b\\u0e17\\u0e35\\u0e48\\u0e17\\u0e4d\\u0e32\\u0e02\\u0e36\\u0e49\\u0e19\\u0e21\\u0e32\\u0e19\\u0e31\\u0e49\\u0e19\\u0e40\\u0e1b\\u0e47\\u0e19\\u0e1e\\u0e38\\u0e17\\u0e18\\u0e30 \\u0e22\\u0e34\\u0e48\\u0e07\\u0e01\\u0e27\\u0e48\\u0e32\\u0e27\\u0e31\\u0e01\\u0e01\\u0e25\\u0e34\\u0e2d\\u0e35\\u0e01\\u0e17\\u0e35\\u0e19\\u0e35\\u0e49 \\u0e1b\\u0e23\\u0e32\\u0e01\\u0e0f\\u0e27\\u0e48\\u0e32\\u0e2a\\u0e34\\u0e48\\u0e07\\u0e19\\u0e35\\u0e49\\u0e41\\u0e2b\\u0e25\\u0e30\\u0e04\\u0e37\\u0e2d\\u0e1e\\u0e38\\u0e17\\u0e18\\u0e30\\u0e02\\u0e32\\u0e14 \\u0e2d\\u0e22\\u0e48\\u0e32\\u0e07\\u0e19\\u0e35\\u0e49\\u0e22\\u0e34\\u0e48\\u0e07\\u0e01\\u0e27\\u0e48\\u0e32\\u0e27\\u0e31\\u0e01\\u0e01\\u0e25\\u0e34\"\n        ],\n        \"semantic_type\": \"\",\n        \"description\": \"\"\n      }\n    }\n  ]\n}"
            }
          },
          "metadata": {},
          "execution_count": 103
        }
      ]
    },
    {
      "cell_type": "code",
      "source": [],
      "metadata": {
        "id": "YH1e9zdkz2RR"
      },
      "execution_count": null,
      "outputs": []
    }
  ]
}