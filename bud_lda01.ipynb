{
  "nbformat": 4,
  "nbformat_minor": 0,
  "metadata": {
    "colab": {
      "provenance": [],
      "mount_file_id": "1upsyXNBA5-eGjfEnx5I1nirq6d5sArpM",
      "authorship_tag": "ABX9TyM894sQ+CJrQFUSF88QRlYv",
      "include_colab_link": true
    },
    "kernelspec": {
      "name": "python3",
      "display_name": "Python 3"
    },
    "language_info": {
      "name": "python"
    }
  },
  "cells": [
    {
      "cell_type": "markdown",
      "metadata": {
        "id": "view-in-github",
        "colab_type": "text"
      },
      "source": [
        "<a href=\"https://colab.research.google.com/github/PreamJ/LDA_Bud/blob/main/bud_lda01.ipynb\" target=\"_parent\"><img src=\"https://colab.research.google.com/assets/colab-badge.svg\" alt=\"Open In Colab\"/></a>"
      ]
    },
    {
      "cell_type": "markdown",
      "source": [
        "00 -> preprocess <br>\n",
        "01 -> topic modeling (q/a/m) <br>\n",
        "02 -> search"
      ],
      "metadata": {
        "id": "AQNE-DE1kaYh"
      }
    },
    {
      "cell_type": "code",
      "execution_count": null,
      "metadata": {
        "colab": {
          "base_uri": "https://localhost:8080/"
        },
        "id": "3WNnFKbP2zcG",
        "outputId": "36876e02-921d-47cf-e550-2a055d274ea6"
      },
      "outputs": [
        {
          "output_type": "stream",
          "name": "stdout",
          "text": [
            "Drive already mounted at /content/drive; to attempt to forcibly remount, call drive.mount(\"/content/drive\", force_remount=True).\n"
          ]
        }
      ],
      "source": [
        "from google.colab import drive\n",
        "drive.mount('/content/drive')"
      ]
    },
    {
      "cell_type": "code",
      "source": [
        "import pandas as pd\n",
        "import numpy as np\n",
        "import gensim\n",
        "RANDOM_STATE = 1"
      ],
      "metadata": {
        "id": "9MfG0fTDOA9v"
      },
      "execution_count": null,
      "outputs": []
    },
    {
      "cell_type": "code",
      "source": [
        "import pickle\n",
        "\n",
        "with open('/content/drive/MyDrive/LDA_bud/preprocessed_data/data.pickle', 'rb') as f:\n",
        "  data = pickle.load(f)\n",
        "with open('/content/drive/MyDrive/LDA_bud/preprocessed_data/preprocessed_answer_data.pickle', 'rb') as f:\n",
        "  preprocessed_answer_data = pickle.load(f)\n",
        "with open('/content/drive/MyDrive/LDA_bud/preprocessed_data/preprocessed_question_data.pickle', 'rb') as f:\n",
        "  preprocessed_question_data = pickle.load(f)\n"
      ],
      "metadata": {
        "id": "5jmR5so-5RJG"
      },
      "execution_count": null,
      "outputs": []
    },
    {
      "cell_type": "code",
      "source": [],
      "metadata": {
        "id": "HCUEEr1SOAOQ"
      },
      "execution_count": null,
      "outputs": []
    },
    {
      "cell_type": "markdown",
      "source": [
        "# Question"
      ],
      "metadata": {
        "id": "gW5YBxKXKdPr"
      }
    },
    {
      "cell_type": "code",
      "source": [
        "from sklearn.model_selection import train_test_split\n",
        "question_train, question_test = train_test_split(preprocessed_question_data, test_size=0.2, random_state=42)"
      ],
      "metadata": {
        "id": "8akQc4N6KptC"
      },
      "execution_count": null,
      "outputs": []
    },
    {
      "cell_type": "code",
      "source": [
        "flatten_question = [item for sublist in preprocessed_question_data for item in sublist]\n",
        "print(len(set(flatten_question)))"
      ],
      "metadata": {
        "colab": {
          "base_uri": "https://localhost:8080/"
        },
        "id": "ayp9f-WHJR1T",
        "outputId": "7dc32633-f789-4702-ba16-8f38e0737497"
      },
      "execution_count": null,
      "outputs": [
        {
          "output_type": "stream",
          "name": "stdout",
          "text": [
            "3713\n"
          ]
        }
      ]
    },
    {
      "cell_type": "code",
      "source": [
        "import gensim\n",
        "\n",
        "id2word_question = gensim.corpora.Dictionary(question_train)\n",
        "with open('/content/drive/MyDrive/LDA_bud/preprocessed_data/question/id2word.pkl', 'wb') as f:\n",
        "  pickle.dump(id2word_question, f)"
      ],
      "metadata": {
        "id": "6zRgAS9lKm1X"
      },
      "execution_count": null,
      "outputs": []
    },
    {
      "cell_type": "code",
      "source": [
        "corpus_question = []\n",
        "for text in question_train:\n",
        "  vec = id2word_question.doc2bow(text)\n",
        "  corpus_question.append(vec)\n",
        "pd.Series(corpus_question)\n",
        "with open('/content/drive/MyDrive/LDA_bud/preprocessed_data/question/corpus_question.pkl', 'wb') as f:\n",
        "  pickle.dump(corpus_question, f)"
      ],
      "metadata": {
        "id": "c8p1A3CyOpVI"
      },
      "execution_count": null,
      "outputs": []
    },
    {
      "cell_type": "code",
      "source": [
        "def create_lda_question(num_topics):\n",
        "    lda_model = gensim.models.ldamodel.LdaModel(corpus=corpus_question,\n",
        "                                                id2word=id2word_question,\n",
        "                                                num_topics=num_topics,\n",
        "                                                iterations=1000,\n",
        "                                                chunksize=len(corpus_question),\n",
        "                                                passes=10,\n",
        "                                                alpha='auto',\n",
        "                                                eta='auto',\n",
        "                                                random_state=RANDOM_STATE,\n",
        "                                                update_every=0,\n",
        "                                                minimum_probability=0,\n",
        "                                                eval_every=1\n",
        "                                                )\n",
        "    return lda_model"
      ],
      "metadata": {
        "id": "R0xDv3ThO7S6"
      },
      "execution_count": null,
      "outputs": []
    },
    {
      "cell_type": "code",
      "source": [
        "num_topics = 5\n",
        "lda_model_question_5 = create_lda_question(num_topics)\n",
        "with open('/content/drive/MyDrive/LDA_bud/LDA_model_question/lda_model_question_5.pkl', 'wb') as f:\n",
        "    pickle.dump(lda_model_question_5, f)\n",
        "lda_model_question_5.show_topics(num_topics, num_words=10)"
      ],
      "metadata": {
        "colab": {
          "base_uri": "https://localhost:8080/"
        },
        "id": "n2IyjyuePA-P",
        "outputId": "d058b8f2-5f30-48e0-8118-8704795b1479"
      },
      "execution_count": null,
      "outputs": [
        {
          "output_type": "execute_result",
          "data": {
            "text/plain": [
              "[(0,\n",
              "  '0.014*\"พระรัตนตรัย\" + 0.013*\"ท่อง\" + 0.012*\"เวลา\" + 0.011*\"กรรม\" + 0.010*\"รู้สึก\" + 0.009*\"ทราบ\" + 0.008*\"ธรรม\" + 0.008*\"เจตนา\" + 0.007*\"ความคิด\" + 0.007*\"เพื่อน\"'),\n",
              " (1,\n",
              "  '0.026*\"อธิบาย\" + 0.020*\"รู้สึก\" + 0.019*\"พิจารณา\" + 0.017*\"ขันธ์\" + 0.017*\"ทุกข์\" + 0.010*\"ร่างกาย\" + 0.009*\"อารมณ์\" + 0.008*\"เกิดขึ้น\" + 0.008*\"ขั้นตอน\" + 0.008*\"ธาตุ\"'),\n",
              " (2,\n",
              "  '0.014*\"ธรรม\" + 0.012*\"ขันธ์\" + 0.009*\"วิธี\" + 0.009*\"สร้าง\" + 0.008*\"ชาติ\" + 0.008*\"นิพพาน\" + 0.007*\"อริยสัจ\" + 0.007*\"เรียนถาม\" + 0.006*\"มนุษย์\" + 0.006*\"กราบ\"'),\n",
              " (3,\n",
              "  '0.031*\"ท่อง\" + 0.021*\"ธาตุ\" + 0.017*\"อารมณ์\" + 0.013*\"ปริตร\" + 0.012*\"พระรัตนตรัย\" + 0.010*\"เวลา\" + 0.009*\"พิจารณา\" + 0.009*\"เดิน\" + 0.007*\"ขันธ์\" + 0.007*\"ตัวเอง\"'),\n",
              " (4,\n",
              "  '0.015*\"เวลา\" + 0.011*\"นั่งสมาธิ\" + 0.011*\"รู้สึก\" + 0.010*\"เทวดา\" + 0.010*\"อุทิศ\" + 0.008*\"พุทโธ\" + 0.007*\"ตัวเอง\" + 0.007*\"สมาธิ\" + 0.007*\"บ้าน\" + 0.006*\"สวดมนต์\"')]"
            ]
          },
          "metadata": {},
          "execution_count": 43
        }
      ]
    },
    {
      "cell_type": "code",
      "source": [
        "with open('/content/drive/MyDrive/LDA_bud/preprocessed_data/question/corpus_question.pkl', 'rb') as f:\n",
        "  corpus_question = pickle.load(f)\n",
        "with open('/content/drive/MyDrive/LDA_bud/preprocessed_data/question/id2word.pkl', 'rb') as f:\n",
        "  id2word = pickle.load(f)\n"
      ],
      "metadata": {
        "id": "W09BzboUtaGl"
      },
      "execution_count": null,
      "outputs": []
    },
    {
      "cell_type": "code",
      "source": [
        "from gensim.models.coherencemodel import CoherenceModel\n",
        "\n",
        "with open('/content/drive/MyDrive/LDA_bud/LDA_model_question/lda_model_question_5.pkl', 'rb') as f:\n",
        "  lda_model_question_5 = pickle.load(f)\n",
        "coherence_model_lda  = CoherenceModel(model=lda_model_question_5, corpus=corpus_question, texts=preprocessed_question_data, dictionary=id2word, coherence='c_v')\n",
        "coherence_model_lda.get_coherence()"
      ],
      "metadata": {
        "colab": {
          "base_uri": "https://localhost:8080/"
        },
        "id": "SdRyIU3vwtXe",
        "outputId": "89528bd8-a2fe-4725-fcf5-83621367cef6"
      },
      "execution_count": null,
      "outputs": [
        {
          "output_type": "execute_result",
          "data": {
            "text/plain": [
              "0.30666688881395554"
            ]
          },
          "metadata": {},
          "execution_count": 11
        }
      ]
    },
    {
      "cell_type": "code",
      "source": [
        "num_topics = 10\n",
        "lda_model_question_10 = create_lda(num_topics)\n",
        "with open('/content/drive/MyDrive/LDA_bud/LDA_model_question/lda_model_question_10.pkl', 'wb') as f:\n",
        "    pickle.dump(lda_model_question_10, f)\n",
        "lda_model_question_10.show_topics(num_topics, num_words=10)"
      ],
      "metadata": {
        "colab": {
          "base_uri": "https://localhost:8080/"
        },
        "id": "NQGkQuXEPhS5",
        "outputId": "b4a9764b-14d8-4a32-f0c2-b7db57631eda"
      },
      "execution_count": null,
      "outputs": [
        {
          "output_type": "execute_result",
          "data": {
            "text/plain": [
              "[(0,\n",
              "  '0.011*\"กรรม\" + 0.011*\"เจตนา\" + 0.010*\"เวลา\" + 0.009*\"ท่อง\" + 0.009*\"รู้สึก\" + 0.009*\"ทราบ\" + 0.009*\"สงสัย\" + 0.008*\"พระพุทธเจ้า\" + 0.007*\"พระรัตนตรัย\" + 0.007*\"เสียง\"'),\n",
              " (1,\n",
              "  '0.029*\"ขันธ์\" + 0.027*\"พิจารณา\" + 0.014*\"รู้สึก\" + 0.012*\"วิญญาณ\" + 0.009*\"เวทนา\" + 0.009*\"กราบ\" + 0.009*\"สังขาร\" + 0.008*\"เกิดขึ้น\" + 0.008*\"อารมณ์\" + 0.008*\"ร่างกาย\"'),\n",
              " (2,\n",
              "  '0.014*\"ขันธ์\" + 0.012*\"กราบ\" + 0.012*\"ธรรม\" + 0.011*\"ชาติ\" + 0.009*\"นิพพาน\" + 0.008*\"พิจารณา\" + 0.008*\"เรียนถาม\" + 0.008*\"อารมณ์\" + 0.007*\"ตัวเอง\" + 0.007*\"อริยสัจ\"'),\n",
              " (3,\n",
              "  '0.052*\"ท่อง\" + 0.042*\"ธาตุ\" + 0.024*\"ปริตร\" + 0.021*\"พระรัตนตรัย\" + 0.014*\"พิจารณา\" + 0.014*\"เดิน\" + 0.011*\"เวลา\" + 0.011*\"ทราบ\" + 0.010*\"ตัวเอง\" + 0.009*\"ใส่บาตร\"'),\n",
              " (4,\n",
              "  '0.017*\"นั่งสมาธิ\" + 0.017*\"เวลา\" + 0.013*\"รู้สึก\" + 0.013*\"พุทโธ\" + 0.011*\"เกิดขึ้น\" + 0.010*\"ญาติโยม\" + 0.009*\"ตัวเอง\" + 0.008*\"ธรรมะ\" + 0.007*\"อย่างงี้\" + 0.007*\"เวทนา\"'),\n",
              " (5,\n",
              "  '0.019*\"พระรัตนตรัย\" + 0.015*\"ท่อง\" + 0.015*\"เวลา\" + 0.014*\"ระลึกถึง\" + 0.014*\"รู้สึก\" + 0.008*\"ธรรม\" + 0.008*\"ทุกข์\" + 0.008*\"พุทโธ\" + 0.008*\"ทราบ\" + 0.008*\"เพื่อน\"'),\n",
              " (6,\n",
              "  '0.033*\"อารมณ์\" + 0.012*\"ขันธ์\" + 0.011*\"รู้สึก\" + 0.011*\"เงิน\" + 0.010*\"ร่างกาย\" + 0.009*\"ความคิด\" + 0.009*\"เวลา\" + 0.009*\"ขั้นตอน\" + 0.008*\"พิจารณา\" + 0.008*\"พ่อแม่\"'),\n",
              " (7,\n",
              "  '0.017*\"รู้สึก\" + 0.011*\"แผ่เมตตา\" + 0.011*\"อธิบาย\" + 0.010*\"ทุกข์\" + 0.010*\"ตัวเอง\" + 0.009*\"ตัวเรา\" + 0.008*\"อาการ\" + 0.008*\"กิเลส\" + 0.008*\"วิธี\" + 0.007*\"นั่งสมาธิ\"'),\n",
              " (8,\n",
              "  '0.040*\"อธิบาย\" + 0.019*\"ทุกข์\" + 0.017*\"อุทิศ\" + 0.017*\"เทวดา\" + 0.013*\"บางคน\" + 0.012*\"ทําไม\" + 0.009*\"รู้สึก\" + 0.009*\"กรรม\" + 0.007*\"มนุษย์\" + 0.007*\"กลัว\"'),\n",
              " (9,\n",
              "  '0.019*\"ธรรม\" + 0.014*\"บุคคล\" + 0.012*\"ความคิด\" + 0.010*\"อธิบาย\" + 0.009*\"ท่อง\" + 0.008*\"ญาติ\" + 0.007*\"บรรลุ\" + 0.007*\"เวลา\" + 0.007*\"เพื่อน\" + 0.007*\"ธาตุ\"')]"
            ]
          },
          "metadata": {},
          "execution_count": 44
        }
      ]
    },
    {
      "cell_type": "code",
      "source": [
        "with open('/content/drive/MyDrive/LDA_bud/LDA_model_question/lda_model_question_10.pkl', 'rb') as f:\n",
        "  lda_model_question_10 = pickle.load(f)\n",
        "coherence_model_lda  = CoherenceModel(model=lda_model_question_10, corpus=corpus_question, texts=preprocessed_question_data, dictionary=id2word, coherence='c_v')\n",
        "coherence_model_lda.get_coherence()"
      ],
      "metadata": {
        "colab": {
          "base_uri": "https://localhost:8080/"
        },
        "id": "SIPbCaDOyEUq",
        "outputId": "66f186ce-929a-4d21-c10e-1af5fd5ed7a9"
      },
      "execution_count": null,
      "outputs": [
        {
          "output_type": "execute_result",
          "data": {
            "text/plain": [
              "0.35204549693898296"
            ]
          },
          "metadata": {},
          "execution_count": 12
        }
      ]
    },
    {
      "cell_type": "code",
      "source": [
        "num_topics = 15\n",
        "lda_model_question_15 = create_lda(num_topics)\n",
        "with open('/content/drive/MyDrive/LDA_bud/LDA_model_question/lda_model_question_15.pkl', 'wb') as f:\n",
        "    pickle.dump(lda_model_question_15, f)\n",
        "lda_model_question_15.show_topics(num_topics, num_words=10)"
      ],
      "metadata": {
        "colab": {
          "base_uri": "https://localhost:8080/"
        },
        "id": "k9_5ERdpQ40l",
        "outputId": "47044feb-9267-4916-c811-e351b060a509"
      },
      "execution_count": null,
      "outputs": [
        {
          "output_type": "execute_result",
          "data": {
            "text/plain": [
              "[(0,\n",
              "  '0.016*\"ทราบ\" + 0.014*\"เวลา\" + 0.013*\"พระรัตนตรัย\" + 0.012*\"กรรม\" + 0.011*\"รู้สึก\" + 0.011*\"อาการ\" + 0.010*\"ท่อง\" + 0.010*\"เสียง\" + 0.009*\"ธรรมะ\" + 0.009*\"สงสัย\"'),\n",
              " (1,\n",
              "  '0.034*\"พิจารณา\" + 0.017*\"ขันธ์\" + 0.015*\"รู้สึก\" + 0.012*\"ธรรม\" + 0.011*\"เวลา\" + 0.011*\"ร่างกาย\" + 0.010*\"อารมณ์\" + 0.010*\"การปฏิบัติ\" + 0.009*\"วิญญาณ\" + 0.009*\"ท่อง\"'),\n",
              " (2,\n",
              "  '0.023*\"ชาติ\" + 0.018*\"ขันธ์\" + 0.011*\"สร้าง\" + 0.011*\"ธรรม\" + 0.010*\"โสดาบัน\" + 0.009*\"เรียนถาม\" + 0.009*\"เพราะอะไร\" + 0.008*\"กุศล\" + 0.007*\"พุทธ\" + 0.006*\"ปฏิบัติธรรม\"'),\n",
              " (3,\n",
              "  '0.017*\"ธาตุ\" + 0.014*\"ท่อง\" + 0.013*\"ขันธ์\" + 0.013*\"เวลา\" + 0.013*\"อารมณ์\" + 0.011*\"พิจารณา\" + 0.011*\"ปรุงแต่ง\" + 0.010*\"ปริตร\" + 0.010*\"นั่ง\" + 0.009*\"สงฆ์\"'),\n",
              " (4,\n",
              "  '0.020*\"เวลา\" + 0.018*\"เกิดขึ้น\" + 0.015*\"พุทโธ\" + 0.013*\"นั่งสมาธิ\" + 0.012*\"ตัวเอง\" + 0.010*\"อย่างงี้\" + 0.010*\"อารมณ์\" + 0.010*\"ปฏิบัติธรรม\" + 0.009*\"เวทนา\" + 0.009*\"ระลึกถึง\"'),\n",
              " (5,\n",
              "  '0.014*\"เวลา\" + 0.013*\"รู้สึก\" + 0.013*\"สมุทัย\" + 0.013*\"อารมณ์\" + 0.011*\"นิพพาน\" + 0.010*\"โกรธ\" + 0.009*\"ทุกข์\" + 0.009*\"เกิดขึ้น\" + 0.008*\"อาหาร\" + 0.008*\"ความโกรธ\"'),\n",
              " (6,\n",
              "  '0.025*\"อารมณ์\" + 0.018*\"ขันธ์\" + 0.016*\"พ่อแม่\" + 0.012*\"กรรม\" + 0.011*\"ขั้นตอน\" + 0.011*\"ญาติโยม\" + 0.010*\"เจริญ\" + 0.009*\"เงิน\" + 0.008*\"ทุกข์\" + 0.008*\"ความคิด\"'),\n",
              " (7,\n",
              "  '0.085*\"อธิบาย\" + 0.033*\"ทุกข์\" + 0.026*\"ปริตร\" + 0.022*\"รู้สึก\" + 0.013*\"นั่งสมาธิ\" + 0.011*\"ตัวเอง\" + 0.010*\"อาฏานา\" + 0.010*\"ข้อความ\" + 0.009*\"แผ่เมตตา\" + 0.008*\"พระพุทธเจ้า\"'),\n",
              " (8,\n",
              "  '0.024*\"เทวดา\" + 0.016*\"ทําไม\" + 0.016*\"บางคน\" + 0.015*\"อุทิศ\" + 0.011*\"ทุกข์\" + 0.009*\"คนอื่น\" + 0.009*\"รู้สึก\" + 0.008*\"กรรม\" + 0.007*\"อธิบาย\" + 0.007*\"สัตว์\"'),\n",
              " (9,\n",
              "  '0.015*\"ธรรม\" + 0.014*\"บุคคล\" + 0.011*\"บรรลุ\" + 0.008*\"การสวดมนต์\" + 0.007*\"วันพระ\" + 0.007*\"ธาตุ\" + 0.007*\"เงิน\" + 0.007*\"ญาติ\" + 0.007*\"ตั้งใจ\" + 0.007*\"ถือศีล\"'),\n",
              " (10,\n",
              "  '0.013*\"รู้สึก\" + 0.012*\"อารมณ์\" + 0.011*\"บ้าน\" + 0.010*\"นั่งสมาธิ\" + 0.010*\"อาการ\" + 0.010*\"ความรู้สึก\" + 0.009*\"เกิดขึ้น\" + 0.009*\"พระพุทธเจ้า\" + 0.009*\"ร่างกาย\" + 0.008*\"ความกลัว\"'),\n",
              " (11,\n",
              "  '0.028*\"ความคิด\" + 0.014*\"สังขาร\" + 0.011*\"มาจาก\" + 0.009*\"มนุษย์\" + 0.009*\"วิญญาณ\" + 0.008*\"นิ่ง\" + 0.008*\"ต่างกัน\" + 0.008*\"เจตนา\" + 0.008*\"ขันธ์\" + 0.007*\"สวดมนต์\"'),\n",
              " (12,\n",
              "  '0.022*\"ท่อง\" + 0.021*\"รู้สึก\" + 0.021*\"พุทโธ\" + 0.015*\"ธรรม\" + 0.012*\"พิจารณา\" + 0.012*\"พระรัตนตรัย\" + 0.012*\"เวลา\" + 0.010*\"สังโฆ\" + 0.009*\"ธัมโม\" + 0.008*\"คนอื่น\"'),\n",
              " (13,\n",
              "  '0.017*\"ขันธ์\" + 0.016*\"วิธี\" + 0.012*\"เวลา\" + 0.010*\"มนุษย์\" + 0.009*\"กลัว\" + 0.009*\"กราบ\" + 0.008*\"รู้สึก\" + 0.008*\"กรรมฐาน\" + 0.008*\"ใส่บาตร\" + 0.008*\"กิเลส\"'),\n",
              " (14,\n",
              "  '0.065*\"ท่อง\" + 0.050*\"ธาตุ\" + 0.030*\"พระรัตนตรัย\" + 0.021*\"เดิน\" + 0.013*\"รู้สึก\" + 0.012*\"การท่อง\" + 0.011*\"เวลา\" + 0.010*\"พิจารณา\" + 0.010*\"ระลึกถึง\" + 0.009*\"กรรมฐาน\"')]"
            ]
          },
          "metadata": {},
          "execution_count": 49
        }
      ]
    },
    {
      "cell_type": "code",
      "source": [
        "with open('/content/drive/MyDrive/LDA_bud/LDA_model_question/lda_model_question_15.pkl', 'rb') as f:\n",
        "  lda_model_question_15 = pickle.load(f)\n",
        "coherence_model_lda  = CoherenceModel(model=lda_model_question_15, corpus=corpus_question, texts=preprocessed_question_data, dictionary=id2word, coherence='c_v')\n",
        "coherence_model_lda.get_coherence()"
      ],
      "metadata": {
        "colab": {
          "base_uri": "https://localhost:8080/"
        },
        "id": "ZUzq8SvQyMFx",
        "outputId": "6256d1ec-bc90-407f-f4cb-c1dcb3c8e35e"
      },
      "execution_count": null,
      "outputs": [
        {
          "output_type": "execute_result",
          "data": {
            "text/plain": [
              "0.380074834132263"
            ]
          },
          "metadata": {},
          "execution_count": 13
        }
      ]
    },
    {
      "cell_type": "markdown",
      "source": [
        "# Answer"
      ],
      "metadata": {
        "id": "8jIWQrjDKm8T"
      }
    },
    {
      "cell_type": "code",
      "source": [
        "from sklearn.model_selection import train_test_split\n",
        "answer_train, answer_test = train_test_split(preprocessed_answer_data, test_size=0.2, random_state=42)"
      ],
      "metadata": {
        "id": "Uu5zY2oCKqUD"
      },
      "execution_count": null,
      "outputs": []
    },
    {
      "cell_type": "code",
      "source": [
        "flatten_answer = [item for sublist in preprocessed_answer_data for item in sublist]\n",
        "print(len(set(flatten_answer)))"
      ],
      "metadata": {
        "colab": {
          "base_uri": "https://localhost:8080/"
        },
        "id": "W0LDN5d9Ih_4",
        "outputId": "b187c09e-5143-4afd-c565-6cbbf531fe77"
      },
      "execution_count": null,
      "outputs": [
        {
          "output_type": "stream",
          "name": "stdout",
          "text": [
            "8677\n"
          ]
        }
      ]
    },
    {
      "cell_type": "code",
      "source": [
        "import gensim\n",
        "\n",
        "id2word_answer = gensim.corpora.Dictionary(answer_train)\n",
        "with open('/content/drive/MyDrive/LDA_bud/preprocessed_data/answer/id2word.pkl', 'wb') as f:\n",
        "  pickle.dump(id2word_answer, f)"
      ],
      "metadata": {
        "id": "tr5OJhAgKqcL"
      },
      "execution_count": null,
      "outputs": []
    },
    {
      "cell_type": "code",
      "source": [
        "corpus_answer = []\n",
        "for text in answer_train:\n",
        "  vec = id2word_answer.doc2bow(text)\n",
        "  corpus_answer.append(vec)\n",
        "pd.Series(corpus_answer)\n",
        "with open('/content/drive/MyDrive/LDA_bud/preprocessed_data/answer/corpus_answer.pkl', 'wb') as f:\n",
        "  pickle.dump(corpus_answer, f)"
      ],
      "metadata": {
        "id": "8k7gwbhtNth3"
      },
      "execution_count": null,
      "outputs": []
    },
    {
      "cell_type": "code",
      "source": [
        "def create_lda_answer(num_topics):\n",
        "    lda_model = gensim.models.ldamodel.LdaModel(corpus=corpus_answer,\n",
        "                                                id2word=id2word_answer,\n",
        "                                                num_topics=num_topics,\n",
        "                                                iterations=1000,\n",
        "                                                chunksize=len(corpus_answer),\n",
        "                                                passes=10,\n",
        "                                                alpha='auto',\n",
        "                                                eta='auto',\n",
        "                                                random_state=RANDOM_STATE,\n",
        "                                                update_every=0,\n",
        "                                                minimum_probability=0,\n",
        "                                                eval_every=1\n",
        "                                                )\n",
        "    return lda_model"
      ],
      "metadata": {
        "id": "W5E1YLAYPqfm"
      },
      "execution_count": null,
      "outputs": []
    },
    {
      "cell_type": "code",
      "source": [
        "with open('/content/drive/MyDrive/LDA_bud/preprocessed_data/answer/corpus_answer.pkl', 'rb') as f:\n",
        "  corpus_answer = pickle.load(f)\n",
        "with open('/content/drive/MyDrive/LDA_bud/preprocessed_data/answer/id2word.pkl', 'rb') as f:\n",
        "  id2word_answer = pickle.load(f)"
      ],
      "metadata": {
        "id": "le87efw6y1-t"
      },
      "execution_count": null,
      "outputs": []
    },
    {
      "cell_type": "code",
      "source": [
        "num_topics = 5\n",
        "lda_model_answer_5 = create_lda_answer(num_topics)\n",
        "with open('/content/drive/MyDrive/LDA_bud/LDA_model_answer/lda_model_answer_5.pkl', 'wb') as f:\n",
        "    pickle.dump(lda_model_answer_5, f)\n",
        "lda_model_answer_5.show_topics(num_topics, num_words=10)"
      ],
      "metadata": {
        "colab": {
          "base_uri": "https://localhost:8080/"
        },
        "id": "POVvldQGPvBi",
        "outputId": "41417b8a-feaa-4982-c13b-2643d4e9e14f"
      },
      "execution_count": null,
      "outputs": [
        {
          "output_type": "execute_result",
          "data": {
            "text/plain": [
              "[(0,\n",
              "  '0.014*\"พระองค์\" + 0.014*\"มนุษย์\" + 0.008*\"กรรม\" + 0.008*\"บุคคล\" + 0.008*\"พระพุทธเจ้า\" + 0.008*\"เทวดา\" + 0.008*\"กิเลส\" + 0.007*\"เกิดขึ้น\" + 0.007*\"อุเบกขา\" + 0.005*\"สร้าง\"'),\n",
              " (1,\n",
              "  '0.031*\"อารมณ์\" + 0.012*\"เทวดา\" + 0.011*\"มนุษย์\" + 0.009*\"ลักษณะ\" + 0.008*\"พระองค์\" + 0.007*\"ตัวเอง\" + 0.006*\"บุคคล\" + 0.006*\"เปรต\" + 0.006*\"ถ่ายเท\" + 0.006*\"ภูมิ\"'),\n",
              " (2,\n",
              "  '0.021*\"พระองค์\" + 0.016*\"ธรรม\" + 0.012*\"ปัญญา\" + 0.012*\"บุคคล\" + 0.011*\"พระพุทธเจ้า\" + 0.010*\"ศาสนา\" + 0.008*\"ความจริง\" + 0.008*\"หลัก\" + 0.008*\"ตัวเอง\" + 0.007*\"สร้าง\"'),\n",
              " (3,\n",
              "  '0.027*\"ทุกข์\" + 0.020*\"ขันธ์\" + 0.017*\"เกิดขึ้น\" + 0.014*\"อารมณ์\" + 0.012*\"ปรุงแต่ง\" + 0.010*\"ความทุกข์\" + 0.010*\"กรรม\" + 0.010*\"สังขาร\" + 0.009*\"เวทนา\" + 0.009*\"พิจารณา\"'),\n",
              " (4,\n",
              "  '0.019*\"พระรัตนตรัย\" + 0.010*\"ระลึกถึง\" + 0.009*\"พระพุทธเจ้า\" + 0.008*\"บุคคล\" + 0.008*\"พระองค์\" + 0.007*\"เจตนา\" + 0.007*\"กรรม\" + 0.006*\"ระลึก\" + 0.006*\"สงฆ์\" + 0.006*\"พระสงฆ์\"')]"
            ]
          },
          "metadata": {},
          "execution_count": 23
        }
      ]
    },
    {
      "cell_type": "code",
      "source": [
        "with open('/content/drive/MyDrive/LDA_bud/LDA_model_answer/lda_model_answer_5.pkl', 'rb') as f:\n",
        "  lda_model_answer_5 = pickle.load(f)\n",
        "coherence_model_lda  = CoherenceModel(model=lda_model_answer_5, corpus=corpus_answer, texts=preprocessed_answer_data, dictionary=id2word, coherence='c_v')\n",
        "coherence_model_lda.get_coherence()"
      ],
      "metadata": {
        "colab": {
          "base_uri": "https://localhost:8080/"
        },
        "id": "9wpsOJFPycQ6",
        "outputId": "fb2b6691-8f33-4c71-c44c-e165fef57838"
      },
      "execution_count": null,
      "outputs": [
        {
          "output_type": "stream",
          "name": "stderr",
          "text": [
            "/usr/local/lib/python3.10/dist-packages/gensim/topic_coherence/direct_confirmation_measure.py:204: RuntimeWarning: divide by zero encountered in scalar divide\n",
            "  m_lr_i = np.log(numerator / denominator)\n",
            "/usr/local/lib/python3.10/dist-packages/gensim/topic_coherence/indirect_confirmation_measure.py:323: RuntimeWarning: invalid value encountered in scalar divide\n",
            "  return cv1.T.dot(cv2)[0, 0] / (_magnitude(cv1) * _magnitude(cv2))\n"
          ]
        },
        {
          "output_type": "execute_result",
          "data": {
            "text/plain": [
              "nan"
            ]
          },
          "metadata": {},
          "execution_count": 24
        }
      ]
    },
    {
      "cell_type": "code",
      "source": [
        "num_topics = 10\n",
        "lda_model_answer_10 = create_lda_answer(num_topics)\n",
        "with open('/content/drive/MyDrive/LDA_bud/LDA_model_answer/lda_model_answer_10.pkl', 'wb') as f:\n",
        "    pickle.dump(lda_model_answer_10, f)\n",
        "lda_model_answer_10.show_topics(num_topics, num_words=10)"
      ],
      "metadata": {
        "colab": {
          "base_uri": "https://localhost:8080/"
        },
        "id": "3lgJdlLYPwwO",
        "outputId": "9955d608-f6b1-4bdb-8b69-3c1f82396933"
      },
      "execution_count": null,
      "outputs": [
        {
          "output_type": "execute_result",
          "data": {
            "text/plain": [
              "[(0,\n",
              "  '0.032*\"ขันธ์\" + 0.024*\"เวทนา\" + 0.021*\"สัญญา\" + 0.021*\"ปรุงแต่ง\" + 0.020*\"สังขาร\" + 0.018*\"ความคิด\" + 0.017*\"วิญญาณ\" + 0.016*\"กิเลส\" + 0.016*\"เกิดขึ้น\" + 0.012*\"ความโกรธ\"'),\n",
              " (1,\n",
              "  '0.071*\"อารมณ์\" + 0.024*\"ธาตุ\" + 0.024*\"ท่อง\" + 0.015*\"ถ่ายเท\" + 0.014*\"กรรมฐาน\" + 0.014*\"ขันธ์\" + 0.009*\"เกิดขึ้น\" + 0.008*\"พิจารณา\" + 0.008*\"ลักษณะ\" + 0.008*\"การท่อง\"'),\n",
              " (2,\n",
              "  '0.023*\"สมาธิ\" + 0.018*\"ปัญญา\" + 0.018*\"พระองค์\" + 0.014*\"ความกลัว\" + 0.013*\"ศาสนา\" + 0.012*\"ธรรม\" + 0.010*\"สร้าง\" + 0.010*\"พุทธศาสนา\" + 0.008*\"บุคคล\" + 0.008*\"หลักการ\"'),\n",
              " (3,\n",
              "  '0.039*\"ทุกข์\" + 0.017*\"ความทุกข์\" + 0.016*\"กรรม\" + 0.015*\"ขันธ์\" + 0.015*\"เกิดขึ้น\" + 0.011*\"ปรุงแต่ง\" + 0.011*\"พิจารณา\" + 0.010*\"ตัณหา\" + 0.009*\"สมุทัย\" + 0.009*\"อริยสัจ\"'),\n",
              " (4,\n",
              "  '0.011*\"เจตนา\" + 0.011*\"งดเว้น\" + 0.010*\"สงฆ์\" + 0.008*\"พระรัตนตรัย\" + 0.007*\"ถวาย\" + 0.007*\"พระภิกษุ\" + 0.006*\"พุทธ\" + 0.006*\"นิพพาน\" + 0.006*\"เนื้อ\" + 0.006*\"พระองค์\"'),\n",
              " (5,\n",
              "  '0.024*\"พระองค์\" + 0.013*\"กรรม\" + 0.011*\"พระพุทธเจ้า\" + 0.011*\"บุคคล\" + 0.008*\"ชีวิต\" + 0.008*\"ลักษณะ\" + 0.007*\"ความจริง\" + 0.007*\"หลัก\" + 0.007*\"ปัญญา\" + 0.006*\"ตรัส\"'),\n",
              " (6,\n",
              "  '0.018*\"อารมณ์\" + 0.012*\"พระรัตนตรัย\" + 0.011*\"ระลึกถึง\" + 0.009*\"ชีวิต\" + 0.009*\"เกิดขึ้น\" + 0.008*\"ที่พึ่ง\" + 0.007*\"บุคคล\" + 0.007*\"ปัญหา\" + 0.006*\"สร้าง\" + 0.006*\"ระลึก\"'),\n",
              " (7,\n",
              "  '0.021*\"ทุกข์\" + 0.017*\"มรรค\" + 0.016*\"เกิดขึ้น\" + 0.013*\"เจริญ\" + 0.011*\"ขันธ์\" + 0.010*\"บุคคล\" + 0.008*\"ความรู้\" + 0.008*\"อารมณ์\" + 0.008*\"ปฏิฆะ\" + 0.008*\"ระลึก\"'),\n",
              " (8,\n",
              "  '0.020*\"พระพุทธเจ้า\" + 0.018*\"ธรรม\" + 0.017*\"พระองค์\" + 0.015*\"มนุษย์\" + 0.014*\"บุคคล\" + 0.009*\"ตัวเอง\" + 0.008*\"ชีวิต\" + 0.008*\"ภิกษุ\" + 0.007*\"เปรต\" + 0.007*\"ความดี\"'),\n",
              " (9,\n",
              "  '0.025*\"เทวดา\" + 0.021*\"มนุษย์\" + 0.013*\"พระรัตนตรัย\" + 0.013*\"อุทิศ\" + 0.013*\"เจตนา\" + 0.012*\"กรรม\" + 0.010*\"พระองค์\" + 0.007*\"ระลึกถึง\" + 0.006*\"สถิต\" + 0.006*\"ภูมิ\"')]"
            ]
          },
          "metadata": {},
          "execution_count": 47
        }
      ]
    },
    {
      "cell_type": "code",
      "source": [
        "num_topics = 15\n",
        "lda_model_answer_15 = create_lda_answer(num_topics)\n",
        "with open('/content/drive/MyDrive/LDA_bud/LDA_model_answer/lda_model_answer_15.pkl', 'wb') as f:\n",
        "    pickle.dump(lda_model_answer_15, f)\n",
        "lda_model_answer_15.show_topics(num_topics, num_words=10)"
      ],
      "metadata": {
        "colab": {
          "base_uri": "https://localhost:8080/"
        },
        "id": "FWe2MAeWQx3R",
        "outputId": "cfedd50e-2aa7-41f8-dc28-34f2d0a864b0"
      },
      "execution_count": null,
      "outputs": [
        {
          "output_type": "execute_result",
          "data": {
            "text/plain": [
              "[(0,\n",
              "  '0.030*\"กิเลส\" + 0.017*\"โทสะ\" + 0.015*\"อุเบกขา\" + 0.011*\"สังโยชน์\" + 0.010*\"สร้าง\" + 0.010*\"พระองค์\" + 0.009*\"โลภะ\" + 0.008*\"อกุศล\" + 0.007*\"โกรธ\" + 0.007*\"ความโกรธ\"'),\n",
              " (1,\n",
              "  '0.136*\"อารมณ์\" + 0.029*\"ถ่ายเท\" + 0.011*\"ความรู้\" + 0.010*\"ความคิด\" + 0.008*\"กรรม\" + 0.007*\"สะสม\" + 0.007*\"ตัวเอง\" + 0.006*\"เกิดขึ้น\" + 0.006*\"ความฝัน\" + 0.006*\"วิธีการ\"'),\n",
              " (2,\n",
              "  '0.035*\"สมาธิ\" + 0.030*\"ปัญญา\" + 0.013*\"พระองค์\" + 0.011*\"ธรรม\" + 0.011*\"บุคคล\" + 0.010*\"สร้าง\" + 0.009*\"นั่ง\" + 0.008*\"กรรม\" + 0.008*\"พุทธศาสนา\" + 0.007*\"พราหมณ์\"'),\n",
              " (3,\n",
              "  '0.053*\"ทุกข์\" + 0.029*\"ความทุกข์\" + 0.020*\"กรรม\" + 0.013*\"เกิดขึ้น\" + 0.011*\"ชีวิต\" + 0.010*\"สมุทัย\" + 0.009*\"ความจริง\" + 0.009*\"สร้าง\" + 0.009*\"สัจจะ\" + 0.008*\"กิเลส\"'),\n",
              " (4,\n",
              "  '0.018*\"งดเว้น\" + 0.016*\"พระรัตนตรัย\" + 0.014*\"เจตนา\" + 0.014*\"สงฆ์\" + 0.011*\"รักษา\" + 0.009*\"ถวาย\" + 0.008*\"สัตว์\" + 0.008*\"พระภิกษุ\" + 0.007*\"บุคคล\" + 0.007*\"ตั้งเจตนา\"'),\n",
              " (5,\n",
              "  '0.015*\"พระองค์\" + 0.012*\"ปริตร\" + 0.011*\"บุคคล\" + 0.010*\"บริโภค\" + 0.009*\"ธาตุ\" + 0.009*\"พระรัตนตรัย\" + 0.009*\"ภาวะ\" + 0.008*\"ความตาย\" + 0.008*\"เนื้อสัตว์\" + 0.007*\"พระพุทธเจ้า\"'),\n",
              " (6,\n",
              "  '0.020*\"อารมณ์\" + 0.016*\"ระลึกถึง\" + 0.016*\"พระรัตนตรัย\" + 0.012*\"ชีวิต\" + 0.011*\"ที่พึ่ง\" + 0.008*\"สร้าง\" + 0.008*\"ตัวเรา\" + 0.008*\"ปัญหา\" + 0.008*\"ความจริง\" + 0.008*\"เกิดขึ้น\"'),\n",
              " (7,\n",
              "  '0.038*\"ทุกข์\" + 0.019*\"มรรค\" + 0.013*\"เจริญ\" + 0.012*\"บุคคล\" + 0.010*\"เกิดขึ้น\" + 0.010*\"ปฏิฆะ\" + 0.009*\"อริยสัจ\" + 0.009*\"สัมมา\" + 0.008*\"ดับทุกข์\" + 0.007*\"นิโรธ\"'),\n",
              " (8,\n",
              "  '0.019*\"พระพุทธเจ้า\" + 0.016*\"มนุษย์\" + 0.015*\"พระองค์\" + 0.014*\"ธรรม\" + 0.013*\"บุคคล\" + 0.011*\"เปรต\" + 0.010*\"ภิกษุ\" + 0.009*\"ตัวเอง\" + 0.008*\"ความดี\" + 0.008*\"เทวดา\"'),\n",
              " (9,\n",
              "  '0.033*\"เทวดา\" + 0.026*\"มนุษย์\" + 0.017*\"อุทิศ\" + 0.017*\"พระรัตนตรัย\" + 0.011*\"กรรม\" + 0.009*\"สถิต\" + 0.008*\"ส่วนกุศล\" + 0.007*\"ระลึกถึง\" + 0.007*\"ภูมิ\" + 0.006*\"กุศล\"'),\n",
              " (10,\n",
              "  '0.053*\"ขันธ์\" + 0.025*\"ปรุงแต่ง\" + 0.023*\"เกิดขึ้น\" + 0.022*\"สังขาร\" + 0.021*\"เวทนา\" + 0.016*\"พิจารณา\" + 0.014*\"อารมณ์\" + 0.014*\"สัญญา\" + 0.014*\"วิญญาณ\" + 0.013*\"ความคิด\"'),\n",
              " (11,\n",
              "  '0.026*\"ธรรม\" + 0.009*\"พระพุทธเจ้า\" + 0.009*\"หลัก\" + 0.009*\"พิจารณา\" + 0.008*\"ความเชื่อ\" + 0.008*\"การปฏิบัติ\" + 0.007*\"อาตมา\" + 0.006*\"ศรัทธา\" + 0.006*\"ศาสนา\" + 0.006*\"พระองค์\"'),\n",
              " (12,\n",
              "  '0.021*\"ธาตุ\" + 0.014*\"พระองค์\" + 0.013*\"เกิดขึ้น\" + 0.012*\"ลักษณะ\" + 0.012*\"กรรม\" + 0.010*\"อารมณ์\" + 0.010*\"กรรมฐาน\" + 0.009*\"สัญญา\" + 0.009*\"วิญญาณ\" + 0.008*\"เวทนา\"'),\n",
              " (13,\n",
              "  '0.047*\"เจตนา\" + 0.019*\"กุศล\" + 0.018*\"กรรม\" + 0.015*\"อกุศล\" + 0.013*\"สร้าง\" + 0.012*\"ทรัพย์\" + 0.010*\"ชีวิต\" + 0.010*\"เหนือ\" + 0.010*\"การงาน\" + 0.010*\"ธรรม\"'),\n",
              " (14,\n",
              "  '0.031*\"พระองค์\" + 0.016*\"ศาสนา\" + 0.010*\"พระพุทธเจ้า\" + 0.010*\"ธรรม\" + 0.009*\"หลัก\" + 0.009*\"บุคคล\" + 0.009*\"พุทธ\" + 0.008*\"ความรู้\" + 0.008*\"ปัญญา\" + 0.007*\"พุทธศาสนา\"')]"
            ]
          },
          "metadata": {},
          "execution_count": 48
        }
      ]
    },
    {
      "cell_type": "markdown",
      "source": [
        "# Mix"
      ],
      "metadata": {
        "id": "_u1YzgThMtEF"
      }
    },
    {
      "cell_type": "code",
      "source": [
        "all = flatten_answer + flatten_question\n",
        "print(len(set(all)))"
      ],
      "metadata": {
        "colab": {
          "base_uri": "https://localhost:8080/"
        },
        "id": "BfrEY0v9KI7f",
        "outputId": "b3774b65-93f0-452e-c5c4-79523f2102b3"
      },
      "execution_count": null,
      "outputs": [
        {
          "output_type": "stream",
          "name": "stdout",
          "text": [
            "9388\n"
          ]
        }
      ]
    },
    {
      "cell_type": "code",
      "source": [
        "with open('/content/drive/MyDrive/LDA_bud/preprocessed_data/train.pickle', 'rb') as f:\n",
        "  train_data = pickle.load(f)\n",
        "with open('/content/drive/MyDrive/LDA_bud/preprocessed_data/corpus.pkl', 'rb') as f:\n",
        "  corpus = pickle.load(f)\n",
        "with open('/content/drive/MyDrive/LDA_bud/preprocessed_data/id2word.pkl', 'rb') as f:\n",
        "  id2word = pickle.load(f)"
      ],
      "metadata": {
        "id": "ho6So1HDMu5N"
      },
      "execution_count": null,
      "outputs": []
    },
    {
      "cell_type": "code",
      "source": [
        "def create_lda(num_topics):\n",
        "    lda_model = gensim.models.ldamodel.LdaModel(corpus=corpus,\n",
        "                                                id2word=id2word,\n",
        "                                                num_topics=num_topics,\n",
        "                                                iterations=1000,\n",
        "                                                chunksize=len(corpus),\n",
        "                                                passes=10,\n",
        "                                                alpha='auto',\n",
        "                                                eta='auto',\n",
        "                                                random_state=RANDOM_STATE,\n",
        "                                                update_every=0,\n",
        "                                                minimum_probability=0,\n",
        "                                                eval_every=1\n",
        "                                                )\n",
        "    return lda_model"
      ],
      "metadata": {
        "id": "fOIWpNQKVpMe"
      },
      "execution_count": null,
      "outputs": []
    },
    {
      "cell_type": "code",
      "source": [
        "num_topics = 5\n",
        "lda_model_5 = create_lda(num_topics)\n",
        "with open('/content/drive/MyDrive/LDA_bud/LDA_model/lda_model_5.pkl', 'wb') as f:\n",
        "    pickle.dump(lda_model_5, f)\n",
        "lda_model_5.show_topics(num_topics, num_words=10)"
      ],
      "metadata": {
        "colab": {
          "base_uri": "https://localhost:8080/"
        },
        "id": "hnsob0XLV5np",
        "outputId": "4d479b8a-852a-41c6-a027-dc5849f13be7"
      },
      "execution_count": null,
      "outputs": [
        {
          "output_type": "execute_result",
          "data": {
            "text/plain": [
              "[(0,\n",
              "  '0.031*\"อารมณ์\" + 0.015*\"ขันธ์\" + 0.013*\"เกิดขึ้น\" + 0.012*\"ทุกข์\" + 0.009*\"สมาธิ\" + 0.008*\"ปรุงแต่ง\" + 0.008*\"พระองค์\" + 0.007*\"เวทนา\" + 0.007*\"สังขาร\" + 0.006*\"ธรรม\"'),\n",
              " (1,\n",
              "  '0.022*\"ท่อง\" + 0.017*\"ธาตุ\" + 0.010*\"พิจารณา\" + 0.009*\"ธรรม\" + 0.008*\"ร่างกาย\" + 0.008*\"รักษา\" + 0.008*\"พระรัตนตรัย\" + 0.007*\"พระองค์\" + 0.007*\"อธิบาย\" + 0.007*\"งดเว้น\"'),\n",
              " (2,\n",
              "  '0.014*\"ขันธ์\" + 0.011*\"เกิดขึ้น\" + 0.010*\"สมุทัย\" + 0.009*\"กิเลส\" + 0.009*\"ทุกข์\" + 0.009*\"อารมณ์\" + 0.008*\"ตัณหา\" + 0.008*\"ธาตุ\" + 0.008*\"พิจารณา\" + 0.008*\"สัจจะ\"'),\n",
              " (3,\n",
              "  '0.013*\"พระองค์\" + 0.012*\"บุคคล\" + 0.012*\"เทวดา\" + 0.011*\"มนุษย์\" + 0.010*\"พระพุทธเจ้า\" + 0.009*\"ธรรม\" + 0.009*\"อุทิศ\" + 0.006*\"ศาสนา\" + 0.006*\"พระรัตนตรัย\" + 0.006*\"ชีวิต\"'),\n",
              " (4,\n",
              "  '0.026*\"กรรม\" + 0.023*\"ทุกข์\" + 0.012*\"ความทุกข์\" + 0.012*\"ชีวิต\" + 0.012*\"เกิดขึ้น\" + 0.010*\"ความคิด\" + 0.010*\"เจตนา\" + 0.009*\"สร้าง\" + 0.008*\"ขันธ์\" + 0.008*\"ความรู้\"')]"
            ]
          },
          "metadata": {},
          "execution_count": 54
        }
      ]
    },
    {
      "cell_type": "code",
      "source": [
        "num_topics = 10\n",
        "lda_model_10 = create_lda(num_topics)\n",
        "with open('/content/drive/MyDrive/LDA_bud/LDA_model/lda_model_10.pkl', 'wb') as f:\n",
        "    pickle.dump(lda_model_10, f)\n",
        "lda_model_10.show_topics(num_topics, num_words=10)"
      ],
      "metadata": {
        "colab": {
          "base_uri": "https://localhost:8080/"
        },
        "id": "nZHdkzUJV-0Y",
        "outputId": "5c9fb2c0-7652-48d9-a442-a2bf66754711"
      },
      "execution_count": null,
      "outputs": [
        {
          "output_type": "execute_result",
          "data": {
            "text/plain": [
              "[(0,\n",
              "  '0.020*\"พระรัตนตรัย\" + 0.014*\"ระลึกถึง\" + 0.014*\"ระลึก\" + 0.011*\"ความกลัว\" + 0.010*\"พระพุทธเจ้า\" + 0.010*\"พุทโธ\" + 0.009*\"อารมณ์\" + 0.008*\"กลัว\" + 0.008*\"พระองค์\" + 0.008*\"พิจารณา\"'),\n",
              " (1,\n",
              "  '0.032*\"ท่อง\" + 0.018*\"ธาตุ\" + 0.015*\"ธรรม\" + 0.014*\"พิจารณา\" + 0.012*\"อธิบาย\" + 0.011*\"งดเว้น\" + 0.010*\"เดิน\" + 0.008*\"ขั้นตอน\" + 0.008*\"การปฏิบัติ\" + 0.008*\"ร่างกาย\"'),\n",
              " (2,\n",
              "  '0.012*\"สมุทัย\" + 0.009*\"เวลา\" + 0.008*\"เพื่อน\" + 0.007*\"อวิชชา\" + 0.007*\"นั่งสมาธิ\" + 0.006*\"ธรรม\" + 0.006*\"มนุษย์\" + 0.006*\"ตัณหา\" + 0.006*\"รู้สึก\" + 0.005*\"สมมุติ\"'),\n",
              " (3,\n",
              "  '0.017*\"อุทิศ\" + 0.015*\"เทวดา\" + 0.009*\"ถวาย\" + 0.009*\"ธรรม\" + 0.009*\"บุคคล\" + 0.008*\"ญาติ\" + 0.008*\"ภิกษุ\" + 0.007*\"อาหาร\" + 0.007*\"ชีวิต\" + 0.007*\"บ้าน\"'),\n",
              " (4,\n",
              "  '0.060*\"กรรม\" + 0.018*\"ชีวิต\" + 0.017*\"เจตนา\" + 0.011*\"ความทุกข์\" + 0.010*\"ตัวเอง\" + 0.009*\"สร้าง\" + 0.008*\"กุศล\" + 0.008*\"เกิดขึ้น\" + 0.007*\"ตัวเรา\" + 0.007*\"ความโกรธ\"'),\n",
              " (5,\n",
              "  '0.058*\"ทุกข์\" + 0.037*\"อารมณ์\" + 0.019*\"ความคิด\" + 0.017*\"เกิดขึ้น\" + 0.016*\"ความทุกข์\" + 0.013*\"ความจริง\" + 0.012*\"มรรค\" + 0.011*\"สัจจะ\" + 0.011*\"อริยสัจ\" + 0.010*\"สมุทัย\"'),\n",
              " (6,\n",
              "  '0.042*\"ขันธ์\" + 0.019*\"เกิดขึ้น\" + 0.013*\"กิเลส\" + 0.013*\"สังขาร\" + 0.012*\"เวทนา\" + 0.009*\"ตัณหา\" + 0.009*\"พิจารณา\" + 0.009*\"ทุกข์\" + 0.009*\"สร้าง\" + 0.008*\"ความเห็น\"'),\n",
              " (7,\n",
              "  '0.020*\"พระองค์\" + 0.017*\"บุคคล\" + 0.017*\"พระพุทธเจ้า\" + 0.009*\"พระสงฆ์\" + 0.008*\"ตัวเอง\" + 0.008*\"ธรรม\" + 0.008*\"พระรัตนตรัย\" + 0.007*\"พระธรรม\" + 0.007*\"เจริญ\" + 0.007*\"มนุษย์\"'),\n",
              " (8,\n",
              "  '0.022*\"มนุษย์\" + 0.012*\"ปริตร\" + 0.010*\"ร่างกาย\" + 0.010*\"ธาตุ\" + 0.010*\"ความรู้\" + 0.009*\"พระองค์\" + 0.008*\"สมาธิ\" + 0.008*\"เทวดา\" + 0.007*\"ชีวิต\" + 0.006*\"เกิดขึ้น\"'),\n",
              " (9,\n",
              "  '0.029*\"อารมณ์\" + 0.021*\"พระองค์\" + 0.016*\"ปรุงแต่ง\" + 0.015*\"เวทนา\" + 0.015*\"วิญญาณ\" + 0.012*\"ธาตุ\" + 0.012*\"สังขาร\" + 0.011*\"สัญญา\" + 0.011*\"ขันธ์\" + 0.010*\"เจตสิก\"')]"
            ]
          },
          "metadata": {},
          "execution_count": 55
        }
      ]
    },
    {
      "cell_type": "code",
      "source": [
        "num_topics = 15\n",
        "lda_model_15 = create_lda(num_topics)\n",
        "with open('/content/drive/MyDrive/LDA_bud/LDA_model/lda_model_15.pkl', 'wb') as f:\n",
        "    pickle.dump(lda_model_15, f)\n",
        "lda_model_15.show_topics(num_topics, num_words=10)"
      ],
      "metadata": {
        "colab": {
          "base_uri": "https://localhost:8080/"
        },
        "id": "W4USAuk8V_SU",
        "outputId": "2d2514d7-dd84-4e6c-b027-c0c36298a48f"
      },
      "execution_count": null,
      "outputs": [
        {
          "output_type": "execute_result",
          "data": {
            "text/plain": [
              "[(0,\n",
              "  '0.016*\"ระลึก\" + 0.011*\"พิจารณา\" + 0.011*\"นั่ง\" + 0.011*\"พระองค์\" + 0.010*\"พระพุทธเจ้า\" + 0.010*\"ธรรม\" + 0.009*\"ยินดี\" + 0.008*\"ราคะ\" + 0.008*\"มีสติ\" + 0.007*\"สมาธิ\"'),\n",
              " (1,\n",
              "  '0.038*\"ท่อง\" + 0.030*\"พิจารณา\" + 0.023*\"ธาตุ\" + 0.015*\"ธรรม\" + 0.015*\"ขั้นตอน\" + 0.015*\"ร่างกาย\" + 0.014*\"เดิน\" + 0.012*\"การปฏิบัติ\" + 0.012*\"การพิจารณา\" + 0.008*\"ความเข้าใจ\"'),\n",
              " (2,\n",
              "  '0.015*\"นั่งสมาธิ\" + 0.013*\"เวลา\" + 0.010*\"หลับ\" + 0.008*\"รู้สึก\" + 0.008*\"สมุทัย\" + 0.007*\"เทวดา\" + 0.006*\"วัตถุ\" + 0.005*\"สติปัฏฐาน\" + 0.005*\"พระองค์\" + 0.005*\"ร่างกาย\"'),\n",
              " (3,\n",
              "  '0.021*\"อุทิศ\" + 0.015*\"เทวดา\" + 0.012*\"ถวาย\" + 0.012*\"บุคคล\" + 0.010*\"ญาติ\" + 0.010*\"สงฆ์\" + 0.009*\"อาหาร\" + 0.009*\"ธรรม\" + 0.008*\"บ้าน\" + 0.008*\"หลัก\"'),\n",
              " (4,\n",
              "  '0.074*\"กรรม\" + 0.023*\"ชีวิต\" + 0.019*\"ความทุกข์\" + 0.012*\"ทุกข์\" + 0.009*\"เกิดขึ้น\" + 0.009*\"ตัวเรา\" + 0.009*\"สร้าง\" + 0.009*\"ตัวเอง\" + 0.008*\"ลักษณะ\" + 0.007*\"บุคคล\"'),\n",
              " (5,\n",
              "  '0.075*\"ทุกข์\" + 0.030*\"ความคิด\" + 0.019*\"ความทุกข์\" + 0.015*\"เกิดขึ้น\" + 0.014*\"อารมณ์\" + 0.014*\"สมุทัย\" + 0.014*\"มรรค\" + 0.012*\"สัจจะ\" + 0.011*\"อริยสัจ\" + 0.011*\"ความจริง\"'),\n",
              " (6,\n",
              "  '0.055*\"ขันธ์\" + 0.022*\"เกิดขึ้น\" + 0.022*\"สังขาร\" + 0.017*\"เวทนา\" + 0.015*\"ทุกข์\" + 0.014*\"สัญญา\" + 0.014*\"ปรุงแต่ง\" + 0.012*\"กิเลส\" + 0.010*\"วิญญาณ\" + 0.010*\"ความเห็น\"'),\n",
              " (7,\n",
              "  '0.025*\"พระองค์\" + 0.023*\"พระพุทธเจ้า\" + 0.016*\"บุคคล\" + 0.013*\"พระสงฆ์\" + 0.012*\"พระธรรม\" + 0.010*\"ธรรม\" + 0.009*\"ตัวเอง\" + 0.008*\"เจริญ\" + 0.008*\"ที่พึ่ง\" + 0.008*\"พระพุทธ\"'),\n",
              " (8,\n",
              "  '0.020*\"มนุษย์\" + 0.014*\"ความรู้\" + 0.012*\"ธาตุ\" + 0.009*\"ร่างกาย\" + 0.009*\"สมาธิ\" + 0.009*\"พระองค์\" + 0.008*\"ชีวิต\" + 0.008*\"เทวดา\" + 0.007*\"เกิดขึ้น\" + 0.006*\"บุคคล\"'),\n",
              " (9,\n",
              "  '0.075*\"อารมณ์\" + 0.017*\"เวทนา\" + 0.013*\"พระองค์\" + 0.011*\"อุเบกขา\" + 0.011*\"ถ่ายเท\" + 0.011*\"วิญญาณ\" + 0.010*\"ธาตุ\" + 0.009*\"สัญญา\" + 0.009*\"ลักษณะ\" + 0.008*\"ปรุงแต่ง\"'),\n",
              " (10,\n",
              "  '0.051*\"พระรัตนตรัย\" + 0.029*\"ระลึกถึง\" + 0.028*\"เจตนา\" + 0.016*\"ท่อง\" + 0.014*\"ธาตุ\" + 0.014*\"พุทโธ\" + 0.009*\"สร้าง\" + 0.008*\"กุศล\" + 0.008*\"กระแส\" + 0.007*\"รู้สึก\"'),\n",
              " (11,\n",
              "  '0.019*\"ปรุงแต่ง\" + 0.018*\"ความกลัว\" + 0.018*\"ธรรม\" + 0.018*\"อารมณ์\" + 0.010*\"เมตตา\" + 0.009*\"เกิดขึ้น\" + 0.009*\"ทรัพย์\" + 0.008*\"การงาน\" + 0.007*\"อนุโมทนา\" + 0.007*\"กุศล\"'),\n",
              " (12,\n",
              "  '0.012*\"สัจจะ\" + 0.011*\"นายเวร\" + 0.009*\"ตัวเอง\" + 0.009*\"วิญญาณ\" + 0.008*\"วันพระ\" + 0.008*\"สร้าง\" + 0.007*\"พระองค์\" + 0.006*\"สลาย\" + 0.006*\"ศาสนา\" + 0.005*\"พุทธศาสนา\"'),\n",
              " (13,\n",
              "  '0.033*\"ปริตร\" + 0.024*\"อธิบาย\" + 0.021*\"ความโกรธ\" + 0.019*\"อาการ\" + 0.013*\"รัตน\" + 0.012*\"ความตาย\" + 0.011*\"เกิดขึ้น\" + 0.009*\"กลัว\" + 0.008*\"พิจารณา\" + 0.008*\"ธาตุ\"'),\n",
              " (14,\n",
              "  '0.016*\"พระองค์\" + 0.013*\"ปัญญา\" + 0.013*\"มนุษย์\" + 0.012*\"บุคคล\" + 0.011*\"กุศล\" + 0.010*\"พระพุทธเจ้า\" + 0.009*\"สมาธิ\" + 0.008*\"ธรรม\" + 0.008*\"สร้าง\" + 0.008*\"งดเว้น\"')]"
            ]
          },
          "metadata": {},
          "execution_count": 56
        }
      ]
    },
    {
      "cell_type": "code",
      "source": [
        "topic_dict = {\n",
        "    0 : \"\",\n",
        "    1 : \"\",\n",
        "    2 : \"\",\n",
        "    3 : \"\",\n",
        "    4 : \"\",\n",
        "    5 : \"\",\n",
        "    6 : \"\",\n",
        "    7 : \"\",\n",
        "    8 : \"\",\n",
        "    9 : \"\"\n",
        "}"
      ],
      "metadata": {
        "id": "8zpPki11KEuP"
      },
      "execution_count": null,
      "outputs": []
    }
  ]
}